{
  "nbformat": 4,
  "nbformat_minor": 0,
  "metadata": {
    "kernelspec": {
      "display_name": "Python 3",
      "language": "python",
      "name": "python3"
    },
    "language_info": {
      "codemirror_mode": {
        "name": "ipython",
        "version": 3
      },
      "file_extension": ".py",
      "mimetype": "text/x-python",
      "name": "python",
      "nbconvert_exporter": "python",
      "pygments_lexer": "ipython3",
      "version": "3.7.6"
    },
    "colab": {
      "name": "Food Reviews Analysis - Logistic Regression.ipynb",
      "provenance": [],
      "machine_shape": "hm"
    },
    "accelerator": "GPU"
  },
  "cells": [
    {
      "cell_type": "markdown",
      "metadata": {
        "id": "mKGjfFMkcrxY"
      },
      "source": [
        "# Amazon Fine Food Reviews Analysis\n",
        "\n",
        "\n",
        "Data Source: https://www.kaggle.com/snap/amazon-fine-food-reviews <br>\n",
        "\n",
        "The dataset consists of reviews of fine foods from Amazon products.<br>\n",
        "\n",
        "Number of reviews: 568,454<br>\n",
        "Number of users: 256,059<br>\n",
        "Number of products: 74,258<br>\n",
        "Timespan: Oct 1999 - Oct 2012<br>\n",
        "Number of Attributes/Columns in data: 10 \n",
        "\n",
        "Attribute Information:\n",
        "\n",
        "1. Id\n",
        "2. ProductId - unique identifier for the product\n",
        "3. UserId - unqiue identifier for the user\n",
        "4. ProfileName\n",
        "5. HelpfulnessNumerator - number of users who found the review helpful\n",
        "6. HelpfulnessDenominator - number of users who indicated whether they found the review helpful or not\n",
        "7. Score - rating between 1 and 5\n",
        "8. Time - timestamp for the review\n",
        "9. Summary - brief summary of the review\n",
        "10. Text - text of the review\n",
        "\n",
        "\n",
        "#### Objective:\n",
        "Given a review, determine whether the review is positive (Rating of 4 or 5) or negative (rating of 1 or 2).\n",
        "\n",
        "<br>\n",
        "[Q] How to determine if a review is positive or negative?<br>\n",
        "<br> \n",
        "[Ans] We could use the Score/Rating. A rating of 4 or 5 could be cosnidered a positive review. A review of 1 or 2 could be considered negative. A review of 3 is nuetral and ignored. This is an approximate way of determining the polarity (positivity/negativity) of a review.\n"
      ]
    },
    {
      "cell_type": "code",
      "metadata": {
        "id": "1dBmqiRlcrxa"
      },
      "source": [
        "%matplotlib inline\n",
        "import sqlite3\n",
        "import pandas as pd\n",
        "import numpy as np\n",
        "import nltk\n",
        "import string\n",
        "import matplotlib.pyplot as plt\n",
        "import seaborn as sns\n",
        "from sklearn.feature_extraction.text import TfidfTransformer\n",
        "from sklearn.feature_extraction.text import TfidfVectorizer\n",
        "\n",
        "from sklearn.feature_extraction.text import CountVectorizer\n",
        "from sklearn.metrics import confusion_matrix\n",
        "from sklearn import metrics\n",
        "from sklearn.metrics import roc_curve, auc\n",
        "from nltk.stem.porter import PorterStemmer\n",
        "\n",
        "import re\n",
        "# Tutorial about Python regular expressions: https://pymotw.com/2/re/\n",
        "import string\n",
        "from nltk.corpus import stopwords\n",
        "from nltk.stem import PorterStemmer\n",
        "from nltk.stem.wordnet import WordNetLemmatizer\n",
        "\n",
        "from gensim.models import Word2Vec\n",
        "from gensim.models import KeyedVectors\n",
        "import pickle\n",
        "\n",
        "from tqdm import tqdm\n",
        "import os"
      ],
      "execution_count": 1,
      "outputs": []
    },
    {
      "cell_type": "code",
      "metadata": {
        "colab": {
          "base_uri": "https://localhost:8080/"
        },
        "id": "Zt5fUzVRc0R9",
        "outputId": "ed3d9439-a0f2-4f2c-eef2-ae2ba1217eb6"
      },
      "source": [
        "from google.colab import drive\n",
        "drive.mount('/content/drive')"
      ],
      "execution_count": 2,
      "outputs": [
        {
          "output_type": "stream",
          "text": [
            "Drive already mounted at /content/drive; to attempt to forcibly remount, call drive.mount(\"/content/drive\", force_remount=True).\n"
          ],
          "name": "stdout"
        }
      ]
    },
    {
      "cell_type": "code",
      "metadata": {
        "colab": {
          "base_uri": "https://localhost:8080/"
        },
        "id": "6x3rB2Rdc-dt",
        "outputId": "71c2b24c-d6b2-4fc0-8f84-bb02dd4a22c9"
      },
      "source": [
        "%cd '/content/drive/My Drive/AAIC/Food Reviews/'"
      ],
      "execution_count": 3,
      "outputs": [
        {
          "output_type": "stream",
          "text": [
            "/content/drive/My Drive/AAIC/Food Reviews\n"
          ],
          "name": "stdout"
        }
      ]
    },
    {
      "cell_type": "markdown",
      "metadata": {
        "id": "_Q1fq8Bycrxb"
      },
      "source": [
        "filtering only positive and negative reviews i.e. not taking into consideration those reviews with Score=3"
      ]
    },
    {
      "cell_type": "code",
      "metadata": {
        "id": "24rRuqw2crxc"
      },
      "source": [
        "# using the SQLite Table to read data.\n",
        "con = sqlite3.connect('database.sqlite') \n",
        "\n",
        "filtered_data = pd.read_sql_query(\"\"\" \n",
        "                                    SELECT * FROM Reviews WHERE Score != 3 LIMIT 50000\n",
        "                                  \"\"\", con)"
      ],
      "execution_count": 4,
      "outputs": []
    },
    {
      "cell_type": "code",
      "metadata": {
        "colab": {
          "base_uri": "https://localhost:8080/",
          "height": 204
        },
        "id": "1fHKNAkocrxc",
        "outputId": "6d5428fd-f013-4d56-dfb2-e3657722c48f"
      },
      "source": [
        "filtered_data.head(5)"
      ],
      "execution_count": 5,
      "outputs": [
        {
          "output_type": "execute_result",
          "data": {
            "text/html": [
              "<div>\n",
              "<style scoped>\n",
              "    .dataframe tbody tr th:only-of-type {\n",
              "        vertical-align: middle;\n",
              "    }\n",
              "\n",
              "    .dataframe tbody tr th {\n",
              "        vertical-align: top;\n",
              "    }\n",
              "\n",
              "    .dataframe thead th {\n",
              "        text-align: right;\n",
              "    }\n",
              "</style>\n",
              "<table border=\"1\" class=\"dataframe\">\n",
              "  <thead>\n",
              "    <tr style=\"text-align: right;\">\n",
              "      <th></th>\n",
              "      <th>Id</th>\n",
              "      <th>ProductId</th>\n",
              "      <th>UserId</th>\n",
              "      <th>ProfileName</th>\n",
              "      <th>HelpfulnessNumerator</th>\n",
              "      <th>HelpfulnessDenominator</th>\n",
              "      <th>Score</th>\n",
              "      <th>Time</th>\n",
              "      <th>Summary</th>\n",
              "      <th>Text</th>\n",
              "    </tr>\n",
              "  </thead>\n",
              "  <tbody>\n",
              "    <tr>\n",
              "      <th>0</th>\n",
              "      <td>1</td>\n",
              "      <td>B001E4KFG0</td>\n",
              "      <td>A3SGXH7AUHU8GW</td>\n",
              "      <td>delmartian</td>\n",
              "      <td>1</td>\n",
              "      <td>1</td>\n",
              "      <td>5</td>\n",
              "      <td>1303862400</td>\n",
              "      <td>Good Quality Dog Food</td>\n",
              "      <td>I have bought several of the Vitality canned d...</td>\n",
              "    </tr>\n",
              "    <tr>\n",
              "      <th>1</th>\n",
              "      <td>2</td>\n",
              "      <td>B00813GRG4</td>\n",
              "      <td>A1D87F6ZCVE5NK</td>\n",
              "      <td>dll pa</td>\n",
              "      <td>0</td>\n",
              "      <td>0</td>\n",
              "      <td>1</td>\n",
              "      <td>1346976000</td>\n",
              "      <td>Not as Advertised</td>\n",
              "      <td>Product arrived labeled as Jumbo Salted Peanut...</td>\n",
              "    </tr>\n",
              "    <tr>\n",
              "      <th>2</th>\n",
              "      <td>3</td>\n",
              "      <td>B000LQOCH0</td>\n",
              "      <td>ABXLMWJIXXAIN</td>\n",
              "      <td>Natalia Corres \"Natalia Corres\"</td>\n",
              "      <td>1</td>\n",
              "      <td>1</td>\n",
              "      <td>4</td>\n",
              "      <td>1219017600</td>\n",
              "      <td>\"Delight\" says it all</td>\n",
              "      <td>This is a confection that has been around a fe...</td>\n",
              "    </tr>\n",
              "    <tr>\n",
              "      <th>3</th>\n",
              "      <td>4</td>\n",
              "      <td>B000UA0QIQ</td>\n",
              "      <td>A395BORC6FGVXV</td>\n",
              "      <td>Karl</td>\n",
              "      <td>3</td>\n",
              "      <td>3</td>\n",
              "      <td>2</td>\n",
              "      <td>1307923200</td>\n",
              "      <td>Cough Medicine</td>\n",
              "      <td>If you are looking for the secret ingredient i...</td>\n",
              "    </tr>\n",
              "    <tr>\n",
              "      <th>4</th>\n",
              "      <td>5</td>\n",
              "      <td>B006K2ZZ7K</td>\n",
              "      <td>A1UQRSCLF8GW1T</td>\n",
              "      <td>Michael D. Bigham \"M. Wassir\"</td>\n",
              "      <td>0</td>\n",
              "      <td>0</td>\n",
              "      <td>5</td>\n",
              "      <td>1350777600</td>\n",
              "      <td>Great taffy</td>\n",
              "      <td>Great taffy at a great price.  There was a wid...</td>\n",
              "    </tr>\n",
              "  </tbody>\n",
              "</table>\n",
              "</div>"
            ],
            "text/plain": [
              "   Id  ...                                               Text\n",
              "0   1  ...  I have bought several of the Vitality canned d...\n",
              "1   2  ...  Product arrived labeled as Jumbo Salted Peanut...\n",
              "2   3  ...  This is a confection that has been around a fe...\n",
              "3   4  ...  If you are looking for the secret ingredient i...\n",
              "4   5  ...  Great taffy at a great price.  There was a wid...\n",
              "\n",
              "[5 rows x 10 columns]"
            ]
          },
          "metadata": {
            "tags": []
          },
          "execution_count": 5
        }
      ]
    },
    {
      "cell_type": "code",
      "metadata": {
        "scrolled": true,
        "colab": {
          "base_uri": "https://localhost:8080/",
          "height": 159
        },
        "id": "O3059dCNcrxd",
        "outputId": "dcf5cb63-2941-4d2a-e910-f2357f0cac99"
      },
      "source": [
        "# Give reviews with Score>3 a positive rating (1), and reviews with a score<3 a negative rating (0).\n",
        "def partition(x):\n",
        "    if x < 3:\n",
        "        return 0\n",
        "    return 1\n",
        "#changing reviews with score less than 3 to be positive and vice-versa\n",
        "actualScore = filtered_data['Score']\n",
        "positiveNegative = actualScore.map(partition) \n",
        "filtered_data['Score'] = positiveNegative\n",
        "print(\"Number of data points in our data\", filtered_data.shape)\n",
        "filtered_data.head(3)"
      ],
      "execution_count": 6,
      "outputs": [
        {
          "output_type": "stream",
          "text": [
            "Number of data points in our data (50000, 10)\n"
          ],
          "name": "stdout"
        },
        {
          "output_type": "execute_result",
          "data": {
            "text/html": [
              "<div>\n",
              "<style scoped>\n",
              "    .dataframe tbody tr th:only-of-type {\n",
              "        vertical-align: middle;\n",
              "    }\n",
              "\n",
              "    .dataframe tbody tr th {\n",
              "        vertical-align: top;\n",
              "    }\n",
              "\n",
              "    .dataframe thead th {\n",
              "        text-align: right;\n",
              "    }\n",
              "</style>\n",
              "<table border=\"1\" class=\"dataframe\">\n",
              "  <thead>\n",
              "    <tr style=\"text-align: right;\">\n",
              "      <th></th>\n",
              "      <th>Id</th>\n",
              "      <th>ProductId</th>\n",
              "      <th>UserId</th>\n",
              "      <th>ProfileName</th>\n",
              "      <th>HelpfulnessNumerator</th>\n",
              "      <th>HelpfulnessDenominator</th>\n",
              "      <th>Score</th>\n",
              "      <th>Time</th>\n",
              "      <th>Summary</th>\n",
              "      <th>Text</th>\n",
              "    </tr>\n",
              "  </thead>\n",
              "  <tbody>\n",
              "    <tr>\n",
              "      <th>0</th>\n",
              "      <td>1</td>\n",
              "      <td>B001E4KFG0</td>\n",
              "      <td>A3SGXH7AUHU8GW</td>\n",
              "      <td>delmartian</td>\n",
              "      <td>1</td>\n",
              "      <td>1</td>\n",
              "      <td>1</td>\n",
              "      <td>1303862400</td>\n",
              "      <td>Good Quality Dog Food</td>\n",
              "      <td>I have bought several of the Vitality canned d...</td>\n",
              "    </tr>\n",
              "    <tr>\n",
              "      <th>1</th>\n",
              "      <td>2</td>\n",
              "      <td>B00813GRG4</td>\n",
              "      <td>A1D87F6ZCVE5NK</td>\n",
              "      <td>dll pa</td>\n",
              "      <td>0</td>\n",
              "      <td>0</td>\n",
              "      <td>0</td>\n",
              "      <td>1346976000</td>\n",
              "      <td>Not as Advertised</td>\n",
              "      <td>Product arrived labeled as Jumbo Salted Peanut...</td>\n",
              "    </tr>\n",
              "    <tr>\n",
              "      <th>2</th>\n",
              "      <td>3</td>\n",
              "      <td>B000LQOCH0</td>\n",
              "      <td>ABXLMWJIXXAIN</td>\n",
              "      <td>Natalia Corres \"Natalia Corres\"</td>\n",
              "      <td>1</td>\n",
              "      <td>1</td>\n",
              "      <td>1</td>\n",
              "      <td>1219017600</td>\n",
              "      <td>\"Delight\" says it all</td>\n",
              "      <td>This is a confection that has been around a fe...</td>\n",
              "    </tr>\n",
              "  </tbody>\n",
              "</table>\n",
              "</div>"
            ],
            "text/plain": [
              "   Id  ...                                               Text\n",
              "0   1  ...  I have bought several of the Vitality canned d...\n",
              "1   2  ...  Product arrived labeled as Jumbo Salted Peanut...\n",
              "2   3  ...  This is a confection that has been around a fe...\n",
              "\n",
              "[3 rows x 10 columns]"
            ]
          },
          "metadata": {
            "tags": []
          },
          "execution_count": 6
        }
      ]
    },
    {
      "cell_type": "markdown",
      "metadata": {
        "id": "Za81e7jrcrxe"
      },
      "source": [
        "Lets find some data anamolies like:\n",
        "* Check if there are any duplicate reviews given by a user"
      ]
    },
    {
      "cell_type": "code",
      "metadata": {
        "colab": {
          "base_uri": "https://localhost:8080/",
          "height": 221
        },
        "id": "_ZIH2fEacrxe",
        "outputId": "4a19226b-b8d6-453d-e955-ffdddc18260c"
      },
      "source": [
        "display = pd.read_sql_query(\"\"\"\n",
        "SELECT UserId, ProductId, ProfileName, Time, Score, Text, COUNT(*)\n",
        "FROM Reviews\n",
        "WHERE Score != 3\n",
        "GROUP BY UserId, ProductId, ProfileName, Time, Score, Text\n",
        "HAVING COUNT(*)>1\n",
        "\"\"\", con)\n",
        "\n",
        "print(display.shape)\n",
        "display.head()"
      ],
      "execution_count": 7,
      "outputs": [
        {
          "output_type": "stream",
          "text": [
            "(734, 7)\n"
          ],
          "name": "stdout"
        },
        {
          "output_type": "execute_result",
          "data": {
            "text/html": [
              "<div>\n",
              "<style scoped>\n",
              "    .dataframe tbody tr th:only-of-type {\n",
              "        vertical-align: middle;\n",
              "    }\n",
              "\n",
              "    .dataframe tbody tr th {\n",
              "        vertical-align: top;\n",
              "    }\n",
              "\n",
              "    .dataframe thead th {\n",
              "        text-align: right;\n",
              "    }\n",
              "</style>\n",
              "<table border=\"1\" class=\"dataframe\">\n",
              "  <thead>\n",
              "    <tr style=\"text-align: right;\">\n",
              "      <th></th>\n",
              "      <th>UserId</th>\n",
              "      <th>ProductId</th>\n",
              "      <th>ProfileName</th>\n",
              "      <th>Time</th>\n",
              "      <th>Score</th>\n",
              "      <th>Text</th>\n",
              "      <th>COUNT(*)</th>\n",
              "    </tr>\n",
              "  </thead>\n",
              "  <tbody>\n",
              "    <tr>\n",
              "      <th>0</th>\n",
              "      <td>A10GBEDF4RCOVI</td>\n",
              "      <td>B0037272UY</td>\n",
              "      <td>Superchiller</td>\n",
              "      <td>1310774400</td>\n",
              "      <td>1</td>\n",
              "      <td>My girlfriend and I have been rescuing, foster...</td>\n",
              "      <td>2</td>\n",
              "    </tr>\n",
              "    <tr>\n",
              "      <th>1</th>\n",
              "      <td>A10NJPL8SA82WC</td>\n",
              "      <td>B0026RQTGE</td>\n",
              "      <td>STANIMAL</td>\n",
              "      <td>1343779200</td>\n",
              "      <td>5</td>\n",
              "      <td>These things are awesome.  These Greenies real...</td>\n",
              "      <td>2</td>\n",
              "    </tr>\n",
              "    <tr>\n",
              "      <th>2</th>\n",
              "      <td>A10NJPL8SA82WC</td>\n",
              "      <td>B002QWHJOU</td>\n",
              "      <td>STANIMAL</td>\n",
              "      <td>1343779200</td>\n",
              "      <td>5</td>\n",
              "      <td>These things are awesome.  These Greenies real...</td>\n",
              "      <td>2</td>\n",
              "    </tr>\n",
              "    <tr>\n",
              "      <th>3</th>\n",
              "      <td>A10NJPL8SA82WC</td>\n",
              "      <td>B002QWP89S</td>\n",
              "      <td>STANIMAL</td>\n",
              "      <td>1343779200</td>\n",
              "      <td>5</td>\n",
              "      <td>These things are awesome.  These Greenies real...</td>\n",
              "      <td>2</td>\n",
              "    </tr>\n",
              "    <tr>\n",
              "      <th>4</th>\n",
              "      <td>A10NJPL8SA82WC</td>\n",
              "      <td>B002QWP8H0</td>\n",
              "      <td>STANIMAL</td>\n",
              "      <td>1343779200</td>\n",
              "      <td>5</td>\n",
              "      <td>These things are awesome.  These Greenies real...</td>\n",
              "      <td>2</td>\n",
              "    </tr>\n",
              "  </tbody>\n",
              "</table>\n",
              "</div>"
            ],
            "text/plain": [
              "           UserId  ... COUNT(*)\n",
              "0  A10GBEDF4RCOVI  ...        2\n",
              "1  A10NJPL8SA82WC  ...        2\n",
              "2  A10NJPL8SA82WC  ...        2\n",
              "3  A10NJPL8SA82WC  ...        2\n",
              "4  A10NJPL8SA82WC  ...        2\n",
              "\n",
              "[5 rows x 7 columns]"
            ]
          },
          "metadata": {
            "tags": []
          },
          "execution_count": 7
        }
      ]
    },
    {
      "cell_type": "code",
      "metadata": {
        "colab": {
          "base_uri": "https://localhost:8080/",
          "height": 419
        },
        "id": "aRVjoCJocrxf",
        "outputId": "eabc09c1-25f9-4bf7-8f2c-f0c81615afd0"
      },
      "source": [
        "display.head(100)"
      ],
      "execution_count": 8,
      "outputs": [
        {
          "output_type": "execute_result",
          "data": {
            "text/html": [
              "<div>\n",
              "<style scoped>\n",
              "    .dataframe tbody tr th:only-of-type {\n",
              "        vertical-align: middle;\n",
              "    }\n",
              "\n",
              "    .dataframe tbody tr th {\n",
              "        vertical-align: top;\n",
              "    }\n",
              "\n",
              "    .dataframe thead th {\n",
              "        text-align: right;\n",
              "    }\n",
              "</style>\n",
              "<table border=\"1\" class=\"dataframe\">\n",
              "  <thead>\n",
              "    <tr style=\"text-align: right;\">\n",
              "      <th></th>\n",
              "      <th>UserId</th>\n",
              "      <th>ProductId</th>\n",
              "      <th>ProfileName</th>\n",
              "      <th>Time</th>\n",
              "      <th>Score</th>\n",
              "      <th>Text</th>\n",
              "      <th>COUNT(*)</th>\n",
              "    </tr>\n",
              "  </thead>\n",
              "  <tbody>\n",
              "    <tr>\n",
              "      <th>0</th>\n",
              "      <td>A10GBEDF4RCOVI</td>\n",
              "      <td>B0037272UY</td>\n",
              "      <td>Superchiller</td>\n",
              "      <td>1310774400</td>\n",
              "      <td>1</td>\n",
              "      <td>My girlfriend and I have been rescuing, foster...</td>\n",
              "      <td>2</td>\n",
              "    </tr>\n",
              "    <tr>\n",
              "      <th>1</th>\n",
              "      <td>A10NJPL8SA82WC</td>\n",
              "      <td>B0026RQTGE</td>\n",
              "      <td>STANIMAL</td>\n",
              "      <td>1343779200</td>\n",
              "      <td>5</td>\n",
              "      <td>These things are awesome.  These Greenies real...</td>\n",
              "      <td>2</td>\n",
              "    </tr>\n",
              "    <tr>\n",
              "      <th>2</th>\n",
              "      <td>A10NJPL8SA82WC</td>\n",
              "      <td>B002QWHJOU</td>\n",
              "      <td>STANIMAL</td>\n",
              "      <td>1343779200</td>\n",
              "      <td>5</td>\n",
              "      <td>These things are awesome.  These Greenies real...</td>\n",
              "      <td>2</td>\n",
              "    </tr>\n",
              "    <tr>\n",
              "      <th>3</th>\n",
              "      <td>A10NJPL8SA82WC</td>\n",
              "      <td>B002QWP89S</td>\n",
              "      <td>STANIMAL</td>\n",
              "      <td>1343779200</td>\n",
              "      <td>5</td>\n",
              "      <td>These things are awesome.  These Greenies real...</td>\n",
              "      <td>2</td>\n",
              "    </tr>\n",
              "    <tr>\n",
              "      <th>4</th>\n",
              "      <td>A10NJPL8SA82WC</td>\n",
              "      <td>B002QWP8H0</td>\n",
              "      <td>STANIMAL</td>\n",
              "      <td>1343779200</td>\n",
              "      <td>5</td>\n",
              "      <td>These things are awesome.  These Greenies real...</td>\n",
              "      <td>2</td>\n",
              "    </tr>\n",
              "    <tr>\n",
              "      <th>...</th>\n",
              "      <td>...</td>\n",
              "      <td>...</td>\n",
              "      <td>...</td>\n",
              "      <td>...</td>\n",
              "      <td>...</td>\n",
              "      <td>...</td>\n",
              "      <td>...</td>\n",
              "    </tr>\n",
              "    <tr>\n",
              "      <th>95</th>\n",
              "      <td>A1TMAVN4CEM8U8</td>\n",
              "      <td>B0034KN29O</td>\n",
              "      <td>Gunner</td>\n",
              "      <td>1332115200</td>\n",
              "      <td>5</td>\n",
              "      <td>Diamond Almonds&lt;br /&gt;Almonds are a good source...</td>\n",
              "      <td>2</td>\n",
              "    </tr>\n",
              "    <tr>\n",
              "      <th>96</th>\n",
              "      <td>A1TMAVN4CEM8U8</td>\n",
              "      <td>B0034KP00S</td>\n",
              "      <td>Gunner</td>\n",
              "      <td>1332115200</td>\n",
              "      <td>5</td>\n",
              "      <td>Diamond Almonds&lt;br /&gt;Almonds are a good source...</td>\n",
              "      <td>2</td>\n",
              "    </tr>\n",
              "    <tr>\n",
              "      <th>97</th>\n",
              "      <td>A1TMAVN4CEM8U8</td>\n",
              "      <td>B0049Z5OSK</td>\n",
              "      <td>Gunner</td>\n",
              "      <td>1332115200</td>\n",
              "      <td>5</td>\n",
              "      <td>Diamond Almonds&lt;br /&gt;Almonds are a good source...</td>\n",
              "      <td>2</td>\n",
              "    </tr>\n",
              "    <tr>\n",
              "      <th>98</th>\n",
              "      <td>A1TMAVN4CEM8U8</td>\n",
              "      <td>B0049Z9ANU</td>\n",
              "      <td>Gunner</td>\n",
              "      <td>1332115200</td>\n",
              "      <td>5</td>\n",
              "      <td>Diamond Almonds&lt;br /&gt;Almonds are a good source...</td>\n",
              "      <td>2</td>\n",
              "    </tr>\n",
              "    <tr>\n",
              "      <th>99</th>\n",
              "      <td>A1TMAVN4CEM8U8</td>\n",
              "      <td>B0049ZCF9G</td>\n",
              "      <td>Gunner</td>\n",
              "      <td>1332115200</td>\n",
              "      <td>5</td>\n",
              "      <td>Diamond Almonds&lt;br /&gt;Almonds are a good source...</td>\n",
              "      <td>2</td>\n",
              "    </tr>\n",
              "  </tbody>\n",
              "</table>\n",
              "<p>100 rows × 7 columns</p>\n",
              "</div>"
            ],
            "text/plain": [
              "            UserId  ... COUNT(*)\n",
              "0   A10GBEDF4RCOVI  ...        2\n",
              "1   A10NJPL8SA82WC  ...        2\n",
              "2   A10NJPL8SA82WC  ...        2\n",
              "3   A10NJPL8SA82WC  ...        2\n",
              "4   A10NJPL8SA82WC  ...        2\n",
              "..             ...  ...      ...\n",
              "95  A1TMAVN4CEM8U8  ...        2\n",
              "96  A1TMAVN4CEM8U8  ...        2\n",
              "97  A1TMAVN4CEM8U8  ...        2\n",
              "98  A1TMAVN4CEM8U8  ...        2\n",
              "99  A1TMAVN4CEM8U8  ...        2\n",
              "\n",
              "[100 rows x 7 columns]"
            ]
          },
          "metadata": {
            "tags": []
          },
          "execution_count": 8
        }
      ]
    },
    {
      "cell_type": "code",
      "metadata": {
        "colab": {
          "base_uri": "https://localhost:8080/"
        },
        "id": "UvxIcZwIcrxf",
        "outputId": "c78cb42e-d1dc-40b6-821e-9efba8e8338f"
      },
      "source": [
        "sample1 = pd.read_sql_query(\"\"\"\n",
        "SELECT *\n",
        "FROM Reviews\n",
        "WHERE Score != 3\n",
        "and UserId = \"A10NJPL8SA82WC\"\n",
        "\"\"\", con)\n",
        "print(sample1.shape)"
      ],
      "execution_count": 9,
      "outputs": [
        {
          "output_type": "stream",
          "text": [
            "(8, 10)\n"
          ],
          "name": "stdout"
        }
      ]
    },
    {
      "cell_type": "code",
      "metadata": {
        "colab": {
          "base_uri": "https://localhost:8080/",
          "height": 297
        },
        "id": "UtBaV58Scrxg",
        "outputId": "ee49c2cf-8104-45be-b104-c190de9638e5"
      },
      "source": [
        "sample1.head(10)"
      ],
      "execution_count": 10,
      "outputs": [
        {
          "output_type": "execute_result",
          "data": {
            "text/html": [
              "<div>\n",
              "<style scoped>\n",
              "    .dataframe tbody tr th:only-of-type {\n",
              "        vertical-align: middle;\n",
              "    }\n",
              "\n",
              "    .dataframe tbody tr th {\n",
              "        vertical-align: top;\n",
              "    }\n",
              "\n",
              "    .dataframe thead th {\n",
              "        text-align: right;\n",
              "    }\n",
              "</style>\n",
              "<table border=\"1\" class=\"dataframe\">\n",
              "  <thead>\n",
              "    <tr style=\"text-align: right;\">\n",
              "      <th></th>\n",
              "      <th>Id</th>\n",
              "      <th>ProductId</th>\n",
              "      <th>UserId</th>\n",
              "      <th>ProfileName</th>\n",
              "      <th>HelpfulnessNumerator</th>\n",
              "      <th>HelpfulnessDenominator</th>\n",
              "      <th>Score</th>\n",
              "      <th>Time</th>\n",
              "      <th>Summary</th>\n",
              "      <th>Text</th>\n",
              "    </tr>\n",
              "  </thead>\n",
              "  <tbody>\n",
              "    <tr>\n",
              "      <th>0</th>\n",
              "      <td>21114</td>\n",
              "      <td>B002QWP89S</td>\n",
              "      <td>A10NJPL8SA82WC</td>\n",
              "      <td>STANIMAL</td>\n",
              "      <td>0</td>\n",
              "      <td>0</td>\n",
              "      <td>5</td>\n",
              "      <td>1343779200</td>\n",
              "      <td>Awesome Product</td>\n",
              "      <td>These things are awesome.  These Greenies real...</td>\n",
              "    </tr>\n",
              "    <tr>\n",
              "      <th>1</th>\n",
              "      <td>21115</td>\n",
              "      <td>B002QWP89S</td>\n",
              "      <td>A10NJPL8SA82WC</td>\n",
              "      <td>STANIMAL</td>\n",
              "      <td>0</td>\n",
              "      <td>0</td>\n",
              "      <td>5</td>\n",
              "      <td>1343779200</td>\n",
              "      <td>Awesome Product</td>\n",
              "      <td>These things are awesome.  These Greenies real...</td>\n",
              "    </tr>\n",
              "    <tr>\n",
              "      <th>2</th>\n",
              "      <td>74763</td>\n",
              "      <td>B0026RQTGE</td>\n",
              "      <td>A10NJPL8SA82WC</td>\n",
              "      <td>STANIMAL</td>\n",
              "      <td>0</td>\n",
              "      <td>0</td>\n",
              "      <td>5</td>\n",
              "      <td>1343779200</td>\n",
              "      <td>Awesome Product</td>\n",
              "      <td>These things are awesome.  These Greenies real...</td>\n",
              "    </tr>\n",
              "    <tr>\n",
              "      <th>3</th>\n",
              "      <td>74764</td>\n",
              "      <td>B0026RQTGE</td>\n",
              "      <td>A10NJPL8SA82WC</td>\n",
              "      <td>STANIMAL</td>\n",
              "      <td>0</td>\n",
              "      <td>0</td>\n",
              "      <td>5</td>\n",
              "      <td>1343779200</td>\n",
              "      <td>Awesome Product</td>\n",
              "      <td>These things are awesome.  These Greenies real...</td>\n",
              "    </tr>\n",
              "    <tr>\n",
              "      <th>4</th>\n",
              "      <td>329544</td>\n",
              "      <td>B002QWHJOU</td>\n",
              "      <td>A10NJPL8SA82WC</td>\n",
              "      <td>STANIMAL</td>\n",
              "      <td>0</td>\n",
              "      <td>0</td>\n",
              "      <td>5</td>\n",
              "      <td>1343779200</td>\n",
              "      <td>Awesome Product</td>\n",
              "      <td>These things are awesome.  These Greenies real...</td>\n",
              "    </tr>\n",
              "    <tr>\n",
              "      <th>5</th>\n",
              "      <td>329545</td>\n",
              "      <td>B002QWHJOU</td>\n",
              "      <td>A10NJPL8SA82WC</td>\n",
              "      <td>STANIMAL</td>\n",
              "      <td>0</td>\n",
              "      <td>0</td>\n",
              "      <td>5</td>\n",
              "      <td>1343779200</td>\n",
              "      <td>Awesome Product</td>\n",
              "      <td>These things are awesome.  These Greenies real...</td>\n",
              "    </tr>\n",
              "    <tr>\n",
              "      <th>6</th>\n",
              "      <td>355635</td>\n",
              "      <td>B002QWP8H0</td>\n",
              "      <td>A10NJPL8SA82WC</td>\n",
              "      <td>STANIMAL</td>\n",
              "      <td>0</td>\n",
              "      <td>0</td>\n",
              "      <td>5</td>\n",
              "      <td>1343779200</td>\n",
              "      <td>Awesome Product</td>\n",
              "      <td>These things are awesome.  These Greenies real...</td>\n",
              "    </tr>\n",
              "    <tr>\n",
              "      <th>7</th>\n",
              "      <td>355636</td>\n",
              "      <td>B002QWP8H0</td>\n",
              "      <td>A10NJPL8SA82WC</td>\n",
              "      <td>STANIMAL</td>\n",
              "      <td>0</td>\n",
              "      <td>0</td>\n",
              "      <td>5</td>\n",
              "      <td>1343779200</td>\n",
              "      <td>Awesome Product</td>\n",
              "      <td>These things are awesome.  These Greenies real...</td>\n",
              "    </tr>\n",
              "  </tbody>\n",
              "</table>\n",
              "</div>"
            ],
            "text/plain": [
              "       Id  ...                                               Text\n",
              "0   21114  ...  These things are awesome.  These Greenies real...\n",
              "1   21115  ...  These things are awesome.  These Greenies real...\n",
              "2   74763  ...  These things are awesome.  These Greenies real...\n",
              "3   74764  ...  These things are awesome.  These Greenies real...\n",
              "4  329544  ...  These things are awesome.  These Greenies real...\n",
              "5  329545  ...  These things are awesome.  These Greenies real...\n",
              "6  355635  ...  These things are awesome.  These Greenies real...\n",
              "7  355636  ...  These things are awesome.  These Greenies real...\n",
              "\n",
              "[8 rows x 10 columns]"
            ]
          },
          "metadata": {
            "tags": []
          },
          "execution_count": 10
        }
      ]
    },
    {
      "cell_type": "code",
      "metadata": {
        "id": "cxWekJuScrxg"
      },
      "source": [
        "#Sorting data according to ProductId in ascending order\n",
        "sorted_data=filtered_data.sort_values('ProductId', axis=0, ascending=True, inplace=False, kind='quicksort', na_position='last')"
      ],
      "execution_count": 11,
      "outputs": []
    },
    {
      "cell_type": "markdown",
      "metadata": {
        "id": "vc2QjZcfcrxg"
      },
      "source": [
        "### Drop duplicates"
      ]
    },
    {
      "cell_type": "code",
      "metadata": {
        "colab": {
          "base_uri": "https://localhost:8080/"
        },
        "id": "oZlgCxaicrxg",
        "outputId": "6746b736-1137-45a7-f4c0-24049118d888"
      },
      "source": [
        "#Deduplication of entries\n",
        "final=sorted_data.drop_duplicates(subset={\"UserId\",\"ProfileName\",\"Time\",\"Text\"}, keep='first', inplace=False)\n",
        "final.shape"
      ],
      "execution_count": 12,
      "outputs": [
        {
          "output_type": "execute_result",
          "data": {
            "text/plain": [
              "(46072, 10)"
            ]
          },
          "metadata": {
            "tags": []
          },
          "execution_count": 12
        }
      ]
    },
    {
      "cell_type": "code",
      "metadata": {
        "colab": {
          "base_uri": "https://localhost:8080/"
        },
        "id": "bpaN6z3Tcrxh",
        "outputId": "1dc12327-013c-4b13-ba45-318e82428982"
      },
      "source": [
        "#Checking to see how much % of data still remains\n",
        "(final['Id'].size*1.0)/(filtered_data['Id'].size*1.0)*100"
      ],
      "execution_count": 13,
      "outputs": [
        {
          "output_type": "execute_result",
          "data": {
            "text/plain": [
              "92.144"
            ]
          },
          "metadata": {
            "tags": []
          },
          "execution_count": 13
        }
      ]
    },
    {
      "cell_type": "markdown",
      "metadata": {
        "id": "j30gSBxmcrxh"
      },
      "source": [
        "Found rows where HelpfulnessNumerator is greater than HelpfulnessDenominator. These records are not valid, hence dropping them"
      ]
    },
    {
      "cell_type": "code",
      "metadata": {
        "colab": {
          "base_uri": "https://localhost:8080/",
          "height": 80
        },
        "id": "2UkNraMbcrxh",
        "outputId": "3d05864a-4d3e-4187-cc93-5ced1f32d657"
      },
      "source": [
        "final[final.HelpfulnessNumerator>final.HelpfulnessDenominator]"
      ],
      "execution_count": 14,
      "outputs": [
        {
          "output_type": "execute_result",
          "data": {
            "text/html": [
              "<div>\n",
              "<style scoped>\n",
              "    .dataframe tbody tr th:only-of-type {\n",
              "        vertical-align: middle;\n",
              "    }\n",
              "\n",
              "    .dataframe tbody tr th {\n",
              "        vertical-align: top;\n",
              "    }\n",
              "\n",
              "    .dataframe thead th {\n",
              "        text-align: right;\n",
              "    }\n",
              "</style>\n",
              "<table border=\"1\" class=\"dataframe\">\n",
              "  <thead>\n",
              "    <tr style=\"text-align: right;\">\n",
              "      <th></th>\n",
              "      <th>Id</th>\n",
              "      <th>ProductId</th>\n",
              "      <th>UserId</th>\n",
              "      <th>ProfileName</th>\n",
              "      <th>HelpfulnessNumerator</th>\n",
              "      <th>HelpfulnessDenominator</th>\n",
              "      <th>Score</th>\n",
              "      <th>Time</th>\n",
              "      <th>Summary</th>\n",
              "      <th>Text</th>\n",
              "    </tr>\n",
              "  </thead>\n",
              "  <tbody>\n",
              "    <tr>\n",
              "      <th>41159</th>\n",
              "      <td>44737</td>\n",
              "      <td>B001EQ55RW</td>\n",
              "      <td>A2V0I904FH7ABY</td>\n",
              "      <td>Ram</td>\n",
              "      <td>3</td>\n",
              "      <td>2</td>\n",
              "      <td>1</td>\n",
              "      <td>1212883200</td>\n",
              "      <td>Pure cocoa taste with crunchy almonds inside</td>\n",
              "      <td>It was almost a 'love at first bite' - the per...</td>\n",
              "    </tr>\n",
              "  </tbody>\n",
              "</table>\n",
              "</div>"
            ],
            "text/plain": [
              "          Id  ...                                               Text\n",
              "41159  44737  ...  It was almost a 'love at first bite' - the per...\n",
              "\n",
              "[1 rows x 10 columns]"
            ]
          },
          "metadata": {
            "tags": []
          },
          "execution_count": 14
        }
      ]
    },
    {
      "cell_type": "code",
      "metadata": {
        "id": "6pf8d1xPcrxi"
      },
      "source": [
        "final = final[final.HelpfulnessNumerator<=final.HelpfulnessDenominator]"
      ],
      "execution_count": 15,
      "outputs": []
    },
    {
      "cell_type": "code",
      "metadata": {
        "colab": {
          "base_uri": "https://localhost:8080/"
        },
        "id": "l1mCnmkgcrxi",
        "outputId": "8403fddf-73cf-4d61-e3dc-eb728ea4bcbe"
      },
      "source": [
        "#Before starting the next phase of preprocessing lets see the number of entries left\n",
        "print(final.shape)\n",
        "\n",
        "#How many positive and negative reviews are present in our dataset?\n",
        "final['Score'].value_counts()"
      ],
      "execution_count": 16,
      "outputs": [
        {
          "output_type": "stream",
          "text": [
            "(46071, 10)\n"
          ],
          "name": "stdout"
        },
        {
          "output_type": "execute_result",
          "data": {
            "text/plain": [
              "1    38479\n",
              "0     7592\n",
              "Name: Score, dtype: int64"
            ]
          },
          "metadata": {
            "tags": []
          },
          "execution_count": 16
        }
      ]
    },
    {
      "cell_type": "markdown",
      "metadata": {
        "id": "YyD9dSlKcrxi"
      },
      "source": [
        "# Text Preprocessing."
      ]
    },
    {
      "cell_type": "markdown",
      "metadata": {
        "id": "uAAn6k3Scrxi"
      },
      "source": [
        "In the Preprocessing phase we do the following in the order below:-\n",
        "\n",
        "* Begin by removing the html tags\n",
        "* Remove any punctuations or limited set of special characters like , or . or # etc.\n",
        "* Check if the word is made up of english letters and is not alpha-numeric\n",
        "* Check to see if the length of the word is greater than 2 (as it was researched that there is no adjective in 2-letters)\n",
        "* Convert the word to lowercase\n",
        "* Remove Stopwords\n",
        "* Finally Snowball Stemming the word (it was obsereved to be better than Porter Stemming)\n",
        "* After which we collect the words used to describe positive and negative reviews"
      ]
    },
    {
      "cell_type": "code",
      "metadata": {
        "colab": {
          "base_uri": "https://localhost:8080/",
          "height": 69
        },
        "id": "-Whan_XGcrxj",
        "outputId": "3a321e48-0d56-4013-c1e1-9e5bd9d8b1d5"
      },
      "source": [
        "final['Text'].values[100]"
      ],
      "execution_count": 17,
      "outputs": [
        {
          "output_type": "execute_result",
          "data": {
            "application/vnd.google.colaboratory.intrinsic+json": {
              "type": "string"
            },
            "text/plain": [
              "\"Just an FYI to other customers: This item is for the Beef and Ocean Fish formula which is in a RED bag. In my haste, I purchased this thinking it was a the 15lb version of the Chicken and Rice formula. Woops! So I went and bought the 15lb bag of Chicken and Rice and mix the Beef and Fish in so it didn't wreak havoc on my pup's digestive system.<br /><br />I can say that after we started feeding this to my pup, she starting having stinky farts and had never had them before. Also, Roshan's right about the fish breath! Ick.<br /><br />Overall, my dog has no issues with this formula, it's just stinky so I'll stick to Chicken and Rice after this bag is done.\""
            ]
          },
          "metadata": {
            "tags": []
          },
          "execution_count": 17
        }
      ]
    },
    {
      "cell_type": "code",
      "metadata": {
        "id": "NSYaMBGxcrxj"
      },
      "source": [
        "# we are removing the words from the stop words list: 'no', 'nor', 'not'\n",
        "# <br /><br /> ==> after the above steps, we are getting \"br br\"\n",
        "# we are including them into stop words list\n",
        "# instead of <br /> if we have <br/> these tags would have revmoved in the 1st step\n",
        "\n",
        "stopwords= set(['br', 'the', 'i', 'me', 'my', 'myself', 'we', 'our', 'ours', 'ourselves', 'you', \"you're\", \"you've\",\\\n",
        "            \"you'll\", \"you'd\", 'your', 'yours', 'yourself', 'yourselves', 'he', 'him', 'his', 'himself', \\\n",
        "            'she', \"she's\", 'her', 'hers', 'herself', 'it', \"it's\", 'its', 'itself', 'they', 'them', 'their',\\\n",
        "            'theirs', 'themselves', 'what', 'which', 'who', 'whom', 'this', 'that', \"that'll\", 'these', 'those', \\\n",
        "            'am', 'is', 'are', 'was', 'were', 'be', 'been', 'being', 'have', 'has', 'had', 'having', 'do', 'does', \\\n",
        "            'did', 'doing', 'a', 'an', 'the', 'and', 'but', 'if', 'or', 'because', 'as', 'until', 'while', 'of', \\\n",
        "            'at', 'by', 'for', 'with', 'about', 'against', 'between', 'into', 'through', 'during', 'before', 'after',\\\n",
        "            'above', 'below', 'to', 'from', 'up', 'down', 'in', 'out', 'on', 'off', 'over', 'under', 'again', 'further',\\\n",
        "            'then', 'once', 'here', 'there', 'when', 'where', 'why', 'how', 'all', 'any', 'both', 'each', 'few', 'more',\\\n",
        "            'most', 'other', 'some', 'such', 'only', 'own', 'same', 'so', 'than', 'too', 'very', \\\n",
        "            's', 't', 'can', 'will', 'just', 'don', \"don't\", 'should', \"should've\", 'now', 'd', 'll', 'm', 'o', 're', \\\n",
        "            've', 'y', 'ain', 'aren', \"aren't\", 'couldn', \"couldn't\", 'didn', \"didn't\", 'doesn', \"doesn't\", 'hadn',\\\n",
        "            \"hadn't\", 'hasn', \"hasn't\", 'haven', \"haven't\", 'isn', \"isn't\", 'ma', 'mightn', \"mightn't\", 'mustn',\\\n",
        "            \"mustn't\", 'needn', \"needn't\", 'shan', \"shan't\", 'shouldn', \"shouldn't\", 'wasn', \"wasn't\", 'weren', \"weren't\", \\\n",
        "            'won', \"won't\", 'wouldn', \"wouldn't\"])"
      ],
      "execution_count": 18,
      "outputs": []
    },
    {
      "cell_type": "code",
      "metadata": {
        "id": "IgU3PY-Lcrxk"
      },
      "source": [
        "import re\n",
        "\n",
        "def decontracted(phrase):\n",
        "    # specific\n",
        "    phrase = re.sub(r\"won't\", \"will not\", phrase)\n",
        "    phrase = re.sub(r\"can\\'t\", \"can not\", phrase)\n",
        "\n",
        "    # general\n",
        "    phrase = re.sub(r\"n\\'t\", \" not\", phrase)\n",
        "    phrase = re.sub(r\"\\'re\", \" are\", phrase)\n",
        "    phrase = re.sub(r\"\\'s\", \" is\", phrase)\n",
        "    phrase = re.sub(r\"\\'d\", \" would\", phrase)\n",
        "    phrase = re.sub(r\"\\'ll\", \" will\", phrase)\n",
        "    phrase = re.sub(r\"\\'t\", \" not\", phrase)\n",
        "    phrase = re.sub(r\"\\'ve\", \" have\", phrase)\n",
        "    phrase = re.sub(r\"\\'m\", \" am\", phrase)\n",
        "    return phrase"
      ],
      "execution_count": 19,
      "outputs": []
    },
    {
      "cell_type": "code",
      "metadata": {
        "colab": {
          "base_uri": "https://localhost:8080/"
        },
        "id": "JAKu-4_Bcrxk",
        "outputId": "32c99245-9861-4dba-9271-5844a9f6c225"
      },
      "source": [
        "# Combining all the above stundents \n",
        "from tqdm import tqdm\n",
        "from bs4 import BeautifulSoup\n",
        "preprocessed_reviews = []\n",
        "# tqdm is for printing the status bar\n",
        "for sentance in tqdm(final['Text'].values):\n",
        "    # remove urls\n",
        "    sentance = re.sub(r\"http\\S+\", \"\", sentance)\n",
        "    # remove-all-tags-from-an-element\n",
        "    sentance = BeautifulSoup(sentance, 'lxml').get_text()\n",
        "    \n",
        "    sentance = decontracted(sentance)\n",
        "    #remove words with numbers python: https://stackoverflow.com/a/18082370/4084039\n",
        "    sentance = re.sub(\"\\S*\\d\\S*\", \"\", sentance).strip()\n",
        "    #remove spacial character: https://stackoverflow.com/a/5843547/4084039\n",
        "    sentance = re.sub('[^A-Za-z]+', ' ', sentance)\n",
        "    # https://gist.github.com/sebleier/554280\n",
        "    sentance = ' '.join(e.lower() for e in sentance.split() if e.lower() not in stopwords)\n",
        "    preprocessed_reviews.append(sentance.strip())"
      ],
      "execution_count": 20,
      "outputs": [
        {
          "output_type": "stream",
          "text": [
            "100%|██████████| 46071/46071 [00:15<00:00, 2987.22it/s]\n"
          ],
          "name": "stderr"
        }
      ]
    },
    {
      "cell_type": "code",
      "metadata": {
        "colab": {
          "base_uri": "https://localhost:8080/",
          "height": 52
        },
        "id": "7d436m4Mcrxk",
        "outputId": "4046f59a-0f5a-4ada-c25a-991865b94036"
      },
      "source": [
        "preprocessed_reviews[100]"
      ],
      "execution_count": 21,
      "outputs": [
        {
          "output_type": "execute_result",
          "data": {
            "application/vnd.google.colaboratory.intrinsic+json": {
              "type": "string"
            },
            "text/plain": [
              "'fyi customers item beef ocean fish formula red bag haste purchased thinking version chicken rice formula woops went bought bag chicken rice mix beef fish not wreak havoc pup digestive system say started feeding pup starting stinky farts never also roshan right fish breath ick overall dog no issues formula stinky stick chicken rice bag done'"
            ]
          },
          "metadata": {
            "tags": []
          },
          "execution_count": 21
        }
      ]
    },
    {
      "cell_type": "markdown",
      "metadata": {
        "id": "gXTW8Cc-crxl"
      },
      "source": [
        "## BAG OF WORDS"
      ]
    },
    {
      "cell_type": "code",
      "metadata": {
        "colab": {
          "base_uri": "https://localhost:8080/"
        },
        "id": "1ox7lZHLcrxl",
        "outputId": "5f56e9e0-baa9-495d-ffeb-8b84de262efd"
      },
      "source": [
        "count_vect = CountVectorizer() #in scikit-learn\n",
        "count_vect.fit(preprocessed_reviews)\n",
        "print(\"some feature names \", count_vect.get_feature_names()[:10])\n",
        "print('='*50)\n",
        "\n",
        "final_counts = count_vect.transform(preprocessed_reviews)\n",
        "print(\"the type of count vectorizer \",type(final_counts))\n",
        "print(\"the shape of out text BOW vectorizer \",final_counts.get_shape())\n",
        "print(\"the number of unique words \", final_counts.get_shape()[1])"
      ],
      "execution_count": 22,
      "outputs": [
        {
          "output_type": "stream",
          "text": [
            "some feature names  ['aa', 'aaa', 'aaaa', 'aaaaa', 'aaaaaaaaaaaa', 'aaaaaaaaaaaaaaa', 'aaaaaaahhhhhh', 'aaaaaawwwwwwwwww', 'aaaaah', 'aaaand']\n",
            "==================================================\n",
            "the type of count vectorizer  <class 'scipy.sparse.csr.csr_matrix'>\n",
            "the shape of out text BOW vectorizer  (46071, 39364)\n",
            "the number of unique words  39364\n"
          ],
          "name": "stdout"
        }
      ]
    },
    {
      "cell_type": "markdown",
      "metadata": {
        "id": "sE1gXMHBcrxl"
      },
      "source": [
        "## TF-IDF"
      ]
    },
    {
      "cell_type": "code",
      "metadata": {
        "colab": {
          "base_uri": "https://localhost:8080/"
        },
        "id": "_ItjeeqWcrxl",
        "outputId": "7b11bc58-babe-4aee-b9bb-53f02a5259c1"
      },
      "source": [
        "tf_idf_vect = TfidfVectorizer(ngram_range=(1,2), min_df=10)\n",
        "tf_idf_vect.fit(preprocessed_reviews)\n",
        "print(\"some sample features(unique words in the corpus)\",tf_idf_vect.get_feature_names()[50:100])\n",
        "print('='*50)\n",
        "\n",
        "final_tf_idf = tf_idf_vect.transform(preprocessed_reviews)\n",
        "print(\"the type of count vectorizer \",type(final_tf_idf))\n",
        "print(\"the shape of out text TFIDF vectorizer \",final_tf_idf.get_shape())\n",
        "print(\"the number of unique words including both unigrams and bigrams \", final_tf_idf.get_shape()[1])"
      ],
      "execution_count": 23,
      "outputs": [
        {
          "output_type": "stream",
          "text": [
            "some sample features(unique words in the corpus) ['abundant', 'abundant mineral', 'acacia', 'academy', 'academy sciences', 'acai', 'accent', 'accept', 'accept returns', 'acceptable', 'accepted', 'accepted throughout', 'access', 'accident', 'accidentally', 'accidently', 'accidents', 'accompanied', 'accompaniment', 'accompany', 'accompanying', 'accomplish', 'according', 'according directions', 'according instructions', 'according label', 'according package', 'accordingly', 'account', 'accounts', 'accurate', 'accurately', 'accustomed', 'acerola', 'acerola juice', 'acesulfame', 'ache', 'aches', 'achieve', 'achieved', 'acid', 'acid coffee', 'acid french', 'acid natural', 'acid not', 'acid reflux', 'acid vitamin', 'acidic', 'acidic taste', 'acidity']\n",
            "==================================================\n",
            "the type of count vectorizer  <class 'scipy.sparse.csr.csr_matrix'>\n",
            "the shape of out text TFIDF vectorizer  (46071, 27311)\n",
            "the number of unique words including both unigrams and bigrams  27311\n"
          ],
          "name": "stdout"
        }
      ]
    },
    {
      "cell_type": "markdown",
      "metadata": {
        "id": "1JnrbL-xcrxm"
      },
      "source": [
        "## Word2Vec"
      ]
    },
    {
      "cell_type": "code",
      "metadata": {
        "id": "Do3O_1sEcrxm"
      },
      "source": [
        "# Train Word2Vec model using document text corpus\n",
        "i=0\n",
        "list_of_sentance=[]\n",
        "for sentance in preprocessed_reviews:\n",
        "    list_of_sentance.append(sentance.split())"
      ],
      "execution_count": 24,
      "outputs": []
    },
    {
      "cell_type": "code",
      "metadata": {
        "colab": {
          "base_uri": "https://localhost:8080/"
        },
        "id": "eEXJEkcncrxm",
        "outputId": "b83bcb67-3118-44dd-acbd-e3034ee6fffe"
      },
      "source": [
        "len(list_of_sentance)"
      ],
      "execution_count": 25,
      "outputs": [
        {
          "output_type": "execute_result",
          "data": {
            "text/plain": [
              "46071"
            ]
          },
          "metadata": {
            "tags": []
          },
          "execution_count": 25
        }
      ]
    },
    {
      "cell_type": "code",
      "metadata": {
        "colab": {
          "base_uri": "https://localhost:8080/"
        },
        "id": "wHIIXS-Ecrxn",
        "outputId": "c9b795d5-fac9-4763-a014-27b458f9429c"
      },
      "source": [
        "# Using Google News Word2Vectors\n",
        "# min_count = 5 considers only words that occured atleast 5 times\n",
        "w2v_model=Word2Vec(list_of_sentance,min_count=5,size=50, workers=4)\n",
        "print(w2v_model.wv.most_similar('great'))\n",
        "print('='*50)\n",
        "print(w2v_model.wv.most_similar('worst'))"
      ],
      "execution_count": 26,
      "outputs": [
        {
          "output_type": "stream",
          "text": [
            "[('awesome', 0.8514646291732788), ('fantastic', 0.8422157764434814), ('good', 0.8096615672111511), ('amazing', 0.7984889149665833), ('terrific', 0.7942896485328674), ('excellent', 0.7924020886421204), ('perfect', 0.7825000882148743), ('wonderful', 0.7529447674751282), ('decent', 0.6875823140144348), ('nice', 0.6694883704185486)]\n",
            "==================================================\n",
            "[('nastiest', 0.7206695079803467), ('best', 0.7141876220703125), ('greatest', 0.7067942023277283), ('experienced', 0.6309835910797119), ('awful', 0.6307783722877502), ('disgusting', 0.6250405311584473), ('eaten', 0.6230708956718445), ('hottest', 0.6210761070251465), ('tastiest', 0.6173089742660522), ('ive', 0.61635822057724)]\n"
          ],
          "name": "stdout"
        }
      ]
    },
    {
      "cell_type": "code",
      "metadata": {
        "colab": {
          "base_uri": "https://localhost:8080/"
        },
        "id": "nd5CD8gtcrxn",
        "outputId": "b4966151-4c40-4afb-faf0-3fcee2e689d0"
      },
      "source": [
        "w2v_words = list(w2v_model.wv.vocab)\n",
        "print(\"number of words that occured minimum 5 times \",len(w2v_words))\n",
        "print(\"sample words \", w2v_words[0:50])"
      ],
      "execution_count": 27,
      "outputs": [
        {
          "output_type": "stream",
          "text": [
            "number of words that occured minimum 5 times  12798\n",
            "sample words  ['dogs', 'loves', 'chicken', 'product', 'china', 'wont', 'buying', 'anymore', 'hard', 'find', 'products', 'made', 'usa', 'one', 'isnt', 'bad', 'good', 'take', 'chances', 'till', 'know', 'going', 'imports', 'love', 'saw', 'pet', 'store', 'tag', 'attached', 'regarding', 'satisfied', 'safe', 'available', 'victor', 'traps', 'unreal', 'course', 'total', 'fly', 'pretty', 'stinky', 'right', 'nearby', 'used', 'bait', 'seasons', 'ca', 'not', 'beat', 'great']\n"
          ],
          "name": "stdout"
        }
      ]
    },
    {
      "cell_type": "code",
      "metadata": {
        "colab": {
          "base_uri": "https://localhost:8080/"
        },
        "id": "fwEsSZ_0crxn",
        "outputId": "da602970-e478-42ea-dd87-c760a3b8132d"
      },
      "source": [
        "w2v_model.wv.most_similar('tasty')"
      ],
      "execution_count": 28,
      "outputs": [
        {
          "output_type": "execute_result",
          "data": {
            "text/plain": [
              "[('satisfying', 0.8261624574661255),\n",
              " ('delicious', 0.7745772004127502),\n",
              " ('yummy', 0.7710222601890564),\n",
              " ('filling', 0.7449297308921814),\n",
              " ('surprisingly', 0.7163609266281128),\n",
              " ('flavorful', 0.6984941363334656),\n",
              " ('crisp', 0.698255717754364),\n",
              " ('hearty', 0.6867802143096924),\n",
              " ('terrific', 0.655419111251831),\n",
              " ('crunchy', 0.654199481010437)]"
            ]
          },
          "metadata": {
            "tags": []
          },
          "execution_count": 28
        }
      ]
    },
    {
      "cell_type": "markdown",
      "metadata": {
        "id": "Bm-20Umocrxn"
      },
      "source": [
        "## Avg W2v"
      ]
    },
    {
      "cell_type": "code",
      "metadata": {
        "colab": {
          "base_uri": "https://localhost:8080/"
        },
        "id": "OmquxFJWcrxo",
        "outputId": "6cd32b27-69c6-4c62-b114-a83218ccb9dd"
      },
      "source": [
        "# average Word2Vec\n",
        "# compute average word2vec for each review.\n",
        "sent_vectors = []; # the avg-w2v for each sentence/review is stored in this list\n",
        "for sent in tqdm(list_of_sentance): # for each review/sentence\n",
        "    sent_vec = np.zeros(50) # as word vectors are of zero length 50, you might need to change this to 300 if you use google's w2v\n",
        "    cnt_words =0; # num of words with a valid vector in the sentence/review\n",
        "    for word in sent: # for each word in a review/sentence\n",
        "        if word in w2v_words:\n",
        "            vec = w2v_model.wv[word]\n",
        "            sent_vec += vec\n",
        "            cnt_words += 1\n",
        "    if cnt_words != 0:\n",
        "        sent_vec /= cnt_words\n",
        "    sent_vectors.append(sent_vec)\n",
        "print(len(sent_vectors))\n",
        "print(len(sent_vectors[0]))"
      ],
      "execution_count": 29,
      "outputs": [
        {
          "output_type": "stream",
          "text": [
            "100%|██████████| 46071/46071 [01:29<00:00, 515.59it/s]"
          ],
          "name": "stderr"
        },
        {
          "output_type": "stream",
          "text": [
            "46071\n",
            "50\n"
          ],
          "name": "stdout"
        },
        {
          "output_type": "stream",
          "text": [
            "\n"
          ],
          "name": "stderr"
        }
      ]
    },
    {
      "cell_type": "code",
      "metadata": {
        "colab": {
          "base_uri": "https://localhost:8080/"
        },
        "id": "iTeK0mb8crxo",
        "outputId": "e5b4564f-c3e9-42cf-fbfb-ab4268e69299"
      },
      "source": [
        "sent_vectors[0]"
      ],
      "execution_count": 30,
      "outputs": [
        {
          "output_type": "execute_result",
          "data": {
            "text/plain": [
              "array([-0.33843901,  0.7862743 , -0.12754929, -0.23941336, -0.33635877,\n",
              "        0.0920174 ,  0.01691901, -0.27680094,  0.45638093,  0.04653111,\n",
              "        0.22348061, -0.51381091, -0.29945465, -0.88611384,  0.52910374,\n",
              "       -0.18935876, -0.13672871, -0.9356862 , -0.61737091,  0.2880545 ,\n",
              "        0.03189598, -0.28176454, -0.27735644, -1.2153586 , -0.36975916,\n",
              "       -0.19672124,  0.14850117, -0.14080425, -0.9157783 ,  0.37383581,\n",
              "        0.24104813, -0.66889502,  0.69854136,  0.13184505, -0.00552285,\n",
              "        0.55387089, -0.33270886,  0.38414767,  0.30252611, -0.10839285,\n",
              "        0.59290399, -0.27710167,  0.36995518, -0.2744194 , -0.22872246,\n",
              "        0.54899015,  0.5574846 , -0.02677658,  0.15055953, -0.22563725])"
            ]
          },
          "metadata": {
            "tags": []
          },
          "execution_count": 30
        }
      ]
    },
    {
      "cell_type": "markdown",
      "metadata": {
        "id": "O1t4AhAzcrxo"
      },
      "source": [
        "## Logistic Regression on these feature sets\n",
        "* Review text, preprocessed one converted into vectors using (BOW)\n",
        "* Review text, preprocessed one converted into vectors using (TFIDF)\n",
        "* Review text, preprocessed one converted into vectors using (AVG W2v)"
      ]
    },
    {
      "cell_type": "markdown",
      "metadata": {
        "id": "V6oDaCxVcrxo"
      },
      "source": [
        "### Logistic Regression on BOW"
      ]
    },
    {
      "cell_type": "code",
      "metadata": {
        "id": "bPm66nmFcrxo"
      },
      "source": [
        "import numpy as np\n",
        "import pandas as pd\n",
        "import math\n",
        "import matplotlib.pyplot as plt\n",
        "from sklearn.model_selection  import train_test_split\n",
        "from sklearn.metrics import accuracy_score\n",
        "from sklearn.model_selection  import cross_val_score\n",
        "from collections import Counter\n",
        "from sklearn.metrics import accuracy_score\n",
        "from sklearn import model_selection\n",
        "from sklearn.metrics import roc_auc_score\n",
        "from sklearn.linear_model import LogisticRegression\n",
        "from sklearn.preprocessing import StandardScaler\n",
        "X=preprocessed_reviews"
      ],
      "execution_count": 31,
      "outputs": []
    },
    {
      "cell_type": "code",
      "metadata": {
        "id": "W6gR9g0fcrxo"
      },
      "source": [
        "y=np.array(final['Score'])\n",
        "X_1, X_test, y_1, y_test = train_test_split(X, y, test_size=0.3, random_state=0)\n",
        "X_train, X_cv, y_train, y_cv = train_test_split(X_1, y_1, test_size=0.3)"
      ],
      "execution_count": 42,
      "outputs": []
    },
    {
      "cell_type": "code",
      "metadata": {
        "colab": {
          "base_uri": "https://localhost:8080/",
          "height": 329
        },
        "id": "FVAq4yIWcrxp",
        "outputId": "7b357b14-3270-4251-94e0-a1bcf67ebf99"
      },
      "source": [
        "count_vect = CountVectorizer()\n",
        "X_train=count_vect.fit_transform(X_train)\n",
        "X_cv=count_vect.transform(X_cv)\n",
        "X_test=count_vect.transform(X_test)\n",
        "\n",
        "scalar = StandardScaler(with_mean=False)\n",
        "X_train = scalar.fit_transform(X_train)\n",
        "X_test= scalar.transform(X_test)\n",
        "X_cv=scalar.transform(X_cv)\n",
        "\n",
        "C = [10**-3, 10**-2, 10**0, 10**2,10**3,10**4]#C=1/lambda\n",
        "auc_train=[]\n",
        "auc_cv=[]\n",
        "for c in C:\n",
        "    lr=LogisticRegression(penalty='l1',C=c, solver='liblinear',verbose=True)\n",
        "    lr.fit(X_train,y_train)\n",
        "    probcv=lr.predict_proba(X_cv)[:,1]\n",
        "    auc_cv.append(roc_auc_score(y_cv,probcv))\n",
        "    probtr=lr.predict_proba(X_train)[:,1]\n",
        "    auc_train.append(roc_auc_score(y_train,probtr))\n",
        "optimal_c= C[auc_cv.index(max(auc_cv))]\n",
        "C=[math.log(x) for x in C]#converting values of C into logarithm\n",
        "fig = plt.figure()\n",
        "ax = plt.subplot(111)\n",
        "ax.plot(C, auc_train, label='AUC train')\n",
        "ax.plot(C, auc_cv, label='AUC CV')\n",
        "plt.title('AUC vs hyperparameter')\n",
        "plt.xlabel('C (1/lambda)')\n",
        "plt.ylabel('AUC')\n",
        "ax.legend()\n",
        "plt.show()\n",
        "print('optimal lambda for which auc is maximum : ',1//optimal_c)"
      ],
      "execution_count": 43,
      "outputs": [
        {
          "output_type": "stream",
          "text": [
            "[LibLinear][LibLinear][LibLinear][LibLinear][LibLinear][LibLinear]"
          ],
          "name": "stdout"
        },
        {
          "output_type": "display_data",
          "data": {
            "image/png": "[encoded data removed]",
            "text/plain": [
              "<Figure size 432x288 with 1 Axes>"
            ]
          },
          "metadata": {
            "tags": [],
            "needs_background": "light"
          }
        },
        {
          "output_type": "stream",
          "text": [
            "optimal lambda for which auc is maximum :  99.0\n"
          ],
          "name": "stdout"
        }
      ]
    },
    {
      "cell_type": "code",
      "metadata": {
        "colab": {
          "base_uri": "https://localhost:8080/",
          "height": 329
        },
        "id": "YCxJqbDbcrxp",
        "outputId": "9cb20f62-5d3f-4e35-9048-fd04da63f1fd"
      },
      "source": [
        "#ROC for lambda=99\n",
        "lr=LogisticRegression(penalty='l1',C=optimal_c, solver='saga')\n",
        "lr.fit(X_train,y_train)\n",
        "predi=lr.predict_proba(X_test)[:,1]\n",
        "fpr1, tpr1, thresholds1 = metrics.roc_curve(y_test, predi)\n",
        "pred=lr.predict_proba(X_train)[:,1]\n",
        "fpr2,tpr2,thresholds2=metrics.roc_curve(y_train,pred)\n",
        "fig = plt.figure()\n",
        "ax = plt.subplot(111)\n",
        "ax.plot(fpr1, tpr1, label='Test ROC ,auc='+str(roc_auc_score(y_test,predi)))\n",
        "ax.plot(fpr2, tpr2, label='Train ROC ,auc='+str(roc_auc_score(y_train,pred)))\n",
        "plt.title('ROC')\n",
        "plt.xlabel('FPR')\n",
        "plt.ylabel('TPR')\n",
        "ax.legend()\n",
        "plt.show()"
      ],
      "execution_count": 44,
      "outputs": [
        {
          "output_type": "stream",
          "text": [
            "/usr/local/lib/python3.7/dist-packages/sklearn/linear_model/_sag.py:330: ConvergenceWarning: The max_iter was reached which means the coef_ did not converge\n",
            "  \"the coef_ did not converge\", ConvergenceWarning)\n"
          ],
          "name": "stderr"
        },
        {
          "output_type": "display_data",
          "data": {
            "image/png": "[encoded data removed]",
            "text/plain": [
              "<Figure size 432x288 with 1 Axes>"
            ]
          },
          "metadata": {
            "tags": [],
            "needs_background": "light"
          }
        }
      ]
    },
    {
      "cell_type": "code",
      "metadata": {
        "colab": {
          "base_uri": "https://localhost:8080/",
          "height": 329
        },
        "id": "7i7a8-uDcrxp",
        "outputId": "34746664-b2f4-41c5-c56a-390128901182"
      },
      "source": [
        "#Confusion matrix using heatmap for test data\n",
        "from sklearn.metrics import confusion_matrix\n",
        "lr=LogisticRegression(penalty='l1',C=optimal_c, solver='saga')\n",
        "lr.fit(X_train,y_train)\n",
        "predic=lr.predict(X_test)\n",
        "import seaborn as sns\n",
        "conf_mat = confusion_matrix(y_test, predic)\n",
        "class_label = [\"negative\", \"positive\"]\n",
        "df = pd.DataFrame(conf_mat, index = class_label, columns = class_label)\n",
        "sns.heatmap(df, annot = True,fmt=\"d\")\n",
        "plt.title(\"Confusion Matrix\")\n",
        "plt.xlabel(\"Predicted Label\")\n",
        "plt.ylabel(\"True Label\")\n",
        "plt.show()"
      ],
      "execution_count": 36,
      "outputs": [
        {
          "output_type": "stream",
          "text": [
            "/usr/local/lib/python3.7/dist-packages/sklearn/linear_model/_sag.py:330: ConvergenceWarning: The max_iter was reached which means the coef_ did not converge\n",
            "  \"the coef_ did not converge\", ConvergenceWarning)\n"
          ],
          "name": "stderr"
        },
        {
          "output_type": "display_data",
          "data": {
            "image/png": "[encoded data removed]",
            "text/plain": [
              "<Figure size 432x288 with 2 Axes>"
            ]
          },
          "metadata": {
            "tags": [],
            "needs_background": "light"
          }
        }
      ]
    },
    {
      "cell_type": "markdown",
      "metadata": {
        "id": "2jhzqsTdcrxp"
      },
      "source": [
        "Calculating sparsity on weight vector obtained using L1 regularization on BOW"
      ]
    },
    {
      "cell_type": "code",
      "metadata": {
        "colab": {
          "base_uri": "https://localhost:8080/"
        },
        "id": "YaK3E2LKcrxq",
        "outputId": "2e8cfce5-d6f3-46ad-9b3a-3ba84610c98c"
      },
      "source": [
        "# Please write all the code with proper documentation\n",
        "#lr=LogisticRegression(penalty='l1',C=optimal_c,  solver='saga')\n",
        "#lr.fit(X_train,y_train)\n",
        "weight=lr.coef_\n",
        "#Sparsity of vector weight=no of zero in weight vector\n",
        "print('No of non zero element in weight vector ',np.count_nonzero(weight))"
      ],
      "execution_count": 37,
      "outputs": [
        {
          "output_type": "stream",
          "text": [
            "No of non zero element in weight vector  3745\n"
          ],
          "name": "stdout"
        }
      ]
    },
    {
      "cell_type": "markdown",
      "metadata": {
        "id": "WLoJeAu_W6UU"
      },
      "source": [
        "### Feature Importance on BOW,"
      ]
    },
    {
      "cell_type": "code",
      "metadata": {
        "id": "h8IOpqtPW9dn"
      },
      "source": [
        "all_features = count_vect.get_feature_names()"
      ],
      "execution_count": 46,
      "outputs": []
    },
    {
      "cell_type": "code",
      "metadata": {
        "id": "fqWvYAxKMmu3",
        "outputId": "dd393063-2b65-4b99-a7b9-5c1ca5d98862",
        "colab": {
          "base_uri": "https://localhost:8080/"
        }
      },
      "source": [
        "weight=lr.coef_\n",
        "pos_indx=np.argsort(weight)[:,::-1]\n",
        "\n",
        "neg_indx=np.argsort(weight)\n",
        "\n",
        "print('Top 10 positive features :')\n",
        "for i in list(pos_indx[0][0:10]):\n",
        "    print(all_features[i])"
      ],
      "execution_count": 47,
      "outputs": [
        {
          "output_type": "stream",
          "text": [
            "Top 10 positive features :\n",
            "great\n",
            "love\n",
            "good\n",
            "best\n",
            "delicious\n",
            "loves\n",
            "favorite\n",
            "perfect\n",
            "excellent\n",
            "wonderful\n"
          ],
          "name": "stdout"
        }
      ]
    },
    {
      "cell_type": "code",
      "metadata": {
        "id": "Pvw-ojP-XJh7",
        "outputId": "54109790-7828-480b-81ae-99aaa3d10a55",
        "colab": {
          "base_uri": "https://localhost:8080/"
        }
      },
      "source": [
        "print('Top 10 negative features :')\n",
        "for i in list(neg_indx[0][:10]):\n",
        "    print(all_features[i])"
      ],
      "execution_count": 48,
      "outputs": [
        {
          "output_type": "stream",
          "text": [
            "Top 10 negative features :\n",
            "worst\n",
            "awful\n",
            "disappointed\n",
            "horrible\n",
            "disappointing\n",
            "return\n",
            "bad\n",
            "refund\n",
            "disgusting\n",
            "threw\n"
          ],
          "name": "stdout"
        }
      ]
    },
    {
      "cell_type": "markdown",
      "metadata": {
        "id": "FgTmPBf5XU77"
      },
      "source": [
        "## Logistic Regression on TFIDF\n",
        "\n",
        "### Logistic Regression with L1 regularization on TFIDF"
      ]
    },
    {
      "cell_type": "code",
      "metadata": {
        "id": "GVx_StuKXkCl"
      },
      "source": [
        "y=np.array(final['Score'])\n",
        "X_1, X_test, y_1, y_test = train_test_split(X, y, test_size=0.3, random_state=0)\n",
        "X_train, X_cv, y_train, y_cv = train_test_split(X_1, y_1, test_size=0.3)"
      ],
      "execution_count": 50,
      "outputs": []
    },
    {
      "cell_type": "code",
      "metadata": {
        "id": "VntWznr7XPPM",
        "outputId": "f105655d-9cba-4ce4-c1b3-721e37f30221",
        "colab": {
          "base_uri": "https://localhost:8080/",
          "height": 516
        }
      },
      "source": [
        "tf_idf_vect = TfidfVectorizer(ngram_range=(1,2), min_df=10)\n",
        "X_train_tf=tf_idf_vect.fit_transform(X_train)\n",
        "X_cv_tf=tf_idf_vect.transform(X_cv)\n",
        "X_test_tf=tf_idf_vect.transform(X_test)\n",
        "\n",
        "scalar = StandardScaler(with_mean=False)\n",
        "X_train_tf = scalar.fit_transform(X_train_tf)\n",
        "X_test_tf= scalar.transform(X_test_tf)\n",
        "X_cv_tf=scalar.transform(X_cv_tf)\n",
        "\n",
        "C = [10**-3, 10**-2, 10**0, 10**2,10**3,10**4]#C=1/lambda\n",
        "auc_train=[]\n",
        "auc_cv=[]\n",
        "for c in C:\n",
        "    lr=LogisticRegression(penalty='l1',C=c, solver='saga')\n",
        "    lr.fit(X_train_tf,y_train)\n",
        "    probcv=lr.predict_proba(X_cv_tf)[:,1]\n",
        "    auc_cv.append(roc_auc_score(y_cv,probcv))\n",
        "    probtr=lr.predict_proba(X_train_tf)[:,1]\n",
        "    auc_train.append(roc_auc_score(y_train,probtr))\n",
        "optimal_c= C[auc_cv.index(max(auc_cv))]\n",
        "C=[math.log(x) for x in C]#converting values of C into logarithm\n",
        "fig = plt.figure()\n",
        "ax = plt.subplot(111)\n",
        "ax.plot(C, auc_train, label='AUC train')\n",
        "ax.plot(C, auc_cv, label='AUC CV')\n",
        "plt.title('AUC vs hyperparameter')\n",
        "plt.xlabel('C (1/lambda)')\n",
        "plt.ylabel('AUC')\n",
        "ax.legend()\n",
        "plt.show()\n",
        "print('optimal lambda for which auc is maximum : ',1//optimal_c)"
      ],
      "execution_count": 52,
      "outputs": [
        {
          "output_type": "stream",
          "text": [
            "/usr/local/lib/python3.7/dist-packages/sklearn/linear_model/_sag.py:330: ConvergenceWarning: The max_iter was reached which means the coef_ did not converge\n",
            "  \"the coef_ did not converge\", ConvergenceWarning)\n",
            "/usr/local/lib/python3.7/dist-packages/sklearn/linear_model/_sag.py:330: ConvergenceWarning: The max_iter was reached which means the coef_ did not converge\n",
            "  \"the coef_ did not converge\", ConvergenceWarning)\n",
            "/usr/local/lib/python3.7/dist-packages/sklearn/linear_model/_sag.py:330: ConvergenceWarning: The max_iter was reached which means the coef_ did not converge\n",
            "  \"the coef_ did not converge\", ConvergenceWarning)\n",
            "/usr/local/lib/python3.7/dist-packages/sklearn/linear_model/_sag.py:330: ConvergenceWarning: The max_iter was reached which means the coef_ did not converge\n",
            "  \"the coef_ did not converge\", ConvergenceWarning)\n",
            "/usr/local/lib/python3.7/dist-packages/sklearn/linear_model/_sag.py:330: ConvergenceWarning: The max_iter was reached which means the coef_ did not converge\n",
            "  \"the coef_ did not converge\", ConvergenceWarning)\n",
            "/usr/local/lib/python3.7/dist-packages/sklearn/linear_model/_sag.py:330: ConvergenceWarning: The max_iter was reached which means the coef_ did not converge\n",
            "  \"the coef_ did not converge\", ConvergenceWarning)\n"
          ],
          "name": "stderr"
        },
        {
          "output_type": "display_data",
          "data": {
            "image/png": "[encoded data removed]",
            "text/plain": [
              "<Figure size 432x288 with 1 Axes>"
            ]
          },
          "metadata": {
            "tags": [],
            "needs_background": "light"
          }
        },
        {
          "output_type": "stream",
          "text": [
            "optimal lambda for which auc is maximum :  99.0\n"
          ],
          "name": "stdout"
        }
      ]
    },
    {
      "cell_type": "code",
      "metadata": {
        "id": "Z8HcO6dJXcsg",
        "outputId": "485e0986-9f5c-4f47-86bd-f37feb3eba0e",
        "colab": {
          "base_uri": "https://localhost:8080/",
          "height": 329
        }
      },
      "source": [
        "lr=LogisticRegression(penalty='l1',C=optimal_c, solver='saga')\n",
        "lr.fit(X_train_tf,y_train)\n",
        "predi=lr.predict_proba(X_test_tf)[:,1]\n",
        "fpr1, tpr1, thresholds1 = metrics.roc_curve(y_test, predi)\n",
        "pred=lr.predict_proba(X_train_tf)[:,1]\n",
        "fpr2,tpr2,thresholds2=metrics.roc_curve(y_train,pred)\n",
        "fig = plt.figure()\n",
        "ax = plt.subplot(111)\n",
        "ax.plot(fpr1, tpr1, label='Test ROC ,auc='+str(roc_auc_score(y_test,predi)))\n",
        "ax.plot(fpr2, tpr2, label='Train ROC ,auc='+str(roc_auc_score(y_train,pred)))\n",
        "plt.title('ROC')\n",
        "plt.xlabel('FPR')\n",
        "plt.ylabel('TPR')\n",
        "ax.legend()\n",
        "plt.show()"
      ],
      "execution_count": 53,
      "outputs": [
        {
          "output_type": "stream",
          "text": [
            "/usr/local/lib/python3.7/dist-packages/sklearn/linear_model/_sag.py:330: ConvergenceWarning: The max_iter was reached which means the coef_ did not converge\n",
            "  \"the coef_ did not converge\", ConvergenceWarning)\n"
          ],
          "name": "stderr"
        },
        {
          "output_type": "display_data",
          "data": {
            "image/png": "[encoded data removed]",
            "text/plain": [
              "<Figure size 432x288 with 1 Axes>"
            ]
          },
          "metadata": {
            "tags": [],
            "needs_background": "light"
          }
        }
      ]
    },
    {
      "cell_type": "code",
      "metadata": {
        "id": "P5IhPIKWZaG1",
        "outputId": "f6f426f8-f766-40f8-be73-673d8932905b",
        "colab": {
          "base_uri": "https://localhost:8080/",
          "height": 329
        }
      },
      "source": [
        "#Confusion matrix using heatmap for test data\n",
        "from sklearn.metrics import confusion_matrix\n",
        "lr=LogisticRegression(penalty='l1',C=optimal_c, solver='saga')\n",
        "lr.fit(X_train_tf,y_train)\n",
        "predic=lr.predict(X_test_tf)\n",
        "import seaborn as sns\n",
        "conf_mat = confusion_matrix(y_test, predic)\n",
        "class_label = [\"negative\", \"positive\"]\n",
        "df = pd.DataFrame(conf_mat, index = class_label, columns = class_label)\n",
        "sns.heatmap(df, annot = True,fmt=\"d\")\n",
        "plt.title(\"Confusion Matrix\")\n",
        "plt.xlabel(\"Predicted Label\")\n",
        "plt.ylabel(\"True Label\")\n",
        "plt.show()"
      ],
      "execution_count": 54,
      "outputs": [
        {
          "output_type": "stream",
          "text": [
            "/usr/local/lib/python3.7/dist-packages/sklearn/linear_model/_sag.py:330: ConvergenceWarning: The max_iter was reached which means the coef_ did not converge\n",
            "  \"the coef_ did not converge\", ConvergenceWarning)\n"
          ],
          "name": "stderr"
        },
        {
          "output_type": "display_data",
          "data": {
            "image/png": "[encoded data removed]",
            "text/plain": [
              "<Figure size 432x288 with 2 Axes>"
            ]
          },
          "metadata": {
            "tags": [],
            "needs_background": "light"
          }
        }
      ]
    },
    {
      "cell_type": "markdown",
      "metadata": {
        "id": "6-c5Y-YEb9ur"
      },
      "source": [
        "## Logistic Regression on AVG W2V"
      ]
    },
    {
      "cell_type": "code",
      "metadata": {
        "id": "_wsQtYk3bpbB",
        "outputId": "c81a6c43-1035-489e-e56e-e737caac8501",
        "colab": {
          "base_uri": "https://localhost:8080/"
        }
      },
      "source": [
        "list_of_sentance_train=[]\n",
        "for sentance in X_train:\n",
        "    list_of_sentance_train.append(sentance.split())\n",
        "w2v_model=Word2Vec(list_of_sentance_train,min_count=5,size=50, workers=4)\n",
        "w2v_words = list(w2v_model.wv.vocab)\n",
        "sent_vectors_train = []; \n",
        "for sent in tqdm(list_of_sentance_train):\n",
        "    sent_vec = np.zeros(50) \n",
        "    cnt_words =0;\n",
        "    for word in sent: \n",
        "        if word in w2v_words:\n",
        "            vec = w2v_model.wv[word]\n",
        "            sent_vec += vec\n",
        "            cnt_words += 1\n",
        "    if cnt_words != 0:\n",
        "        sent_vec /= cnt_words\n",
        "    sent_vectors_train.append(sent_vec)\n",
        "print(len(sent_vectors_train))\n",
        "print(len(sent_vectors_train[0]))\n",
        "\n",
        "#for cross validation we can use same w2v models and w2v words\n",
        "list_of_sentance_cv=[]\n",
        "for sentance in X_cv:\n",
        "    list_of_sentance_cv.append(sentance.split())\n",
        "sent_vectors_cv = []; \n",
        "for sent in tqdm(list_of_sentance_cv):\n",
        "    sent_vec = np.zeros(50) \n",
        "    cnt_words =0;\n",
        "    for word in sent: \n",
        "        if word in w2v_words:\n",
        "            vec = w2v_model.wv[word]\n",
        "            sent_vec += vec\n",
        "            cnt_words += 1\n",
        "    if cnt_words != 0:\n",
        "        sent_vec /= cnt_words\n",
        "    sent_vectors_cv.append(sent_vec)\n",
        "print(len(sent_vectors_cv))\n",
        "print(len(sent_vectors_cv[0]))   \n",
        "\n",
        "#for test data\n",
        "list_of_sentance_test=[]\n",
        "for sentance in X_test:\n",
        "    list_of_sentance_test.append(sentance.split())\n",
        "sent_vectors_test = []; \n",
        "for sent in tqdm(list_of_sentance_test):\n",
        "    sent_vec = np.zeros(50) \n",
        "    cnt_words =0;\n",
        "    for word in sent: \n",
        "        if word in w2v_words:\n",
        "            vec = w2v_model.wv[word]\n",
        "            sent_vec += vec\n",
        "            cnt_words += 1\n",
        "    if cnt_words != 0:\n",
        "        sent_vec /= cnt_words\n",
        "    sent_vectors_test.append(sent_vec)\n",
        "print(len(sent_vectors_test))\n",
        "print(len(sent_vectors_test[0]))"
      ],
      "execution_count": 55,
      "outputs": [
        {
          "output_type": "stream",
          "text": [
            "100%|██████████| 22574/22574 [00:32<00:00, 691.75it/s]\n",
            "  1%|          | 59/9675 [00:00<00:16, 589.88it/s]"
          ],
          "name": "stderr"
        },
        {
          "output_type": "stream",
          "text": [
            "22574\n",
            "50\n"
          ],
          "name": "stdout"
        },
        {
          "output_type": "stream",
          "text": [
            "100%|██████████| 9675/9675 [00:14<00:00, 667.23it/s]\n"
          ],
          "name": "stderr"
        },
        {
          "output_type": "stream",
          "text": [
            "9675\n",
            "50\n"
          ],
          "name": "stdout"
        },
        {
          "output_type": "stream",
          "text": [
            "100%|██████████| 13822/13822 [00:21<00:00, 638.15it/s]"
          ],
          "name": "stderr"
        },
        {
          "output_type": "stream",
          "text": [
            "13822\n",
            "50\n"
          ],
          "name": "stdout"
        },
        {
          "output_type": "stream",
          "text": [
            "\n"
          ],
          "name": "stderr"
        }
      ]
    },
    {
      "cell_type": "code",
      "metadata": {
        "id": "ew7NSuPncIDN",
        "outputId": "be693447-8705-495a-96d0-4bb766d07a00",
        "colab": {
          "base_uri": "https://localhost:8080/",
          "height": 448
        }
      },
      "source": [
        "X_train_w2v=sent_vectors_train\n",
        "X_cv_w2v=sent_vectors_cv\n",
        "X_test_w2v=sent_vectors_test\n",
        "\n",
        "C = [10**-3, 10**-2, 10**0, 10**2,10**3,10**4]#C=1/lambda\n",
        "auc_train=[]\n",
        "auc_cv=[]\n",
        "for c in C:\n",
        "    lr=LogisticRegression(penalty='l1',C=c, solver='saga')\n",
        "    lr.fit(X_train_w2v,y_train)\n",
        "    probcv=lr.predict_proba(X_cv_w2v)[:,1]\n",
        "    auc_cv.append(roc_auc_score(y_cv,probcv))\n",
        "    probtr=lr.predict_proba(X_train_w2v)[:,1]\n",
        "    auc_train.append(roc_auc_score(y_train,probtr))\n",
        "optimal_c= C[auc_cv.index(max(auc_cv))]\n",
        "C=[math.log(x) for x in C]#converting values of C into logarithm\n",
        "fig = plt.figure()\n",
        "ax = plt.subplot(111)\n",
        "ax.plot(C, auc_train, label='AUC train')\n",
        "ax.plot(C, auc_cv, label='AUC CV')\n",
        "plt.title('AUC vs hyperparameter')\n",
        "plt.xlabel('C (1/lambda)')\n",
        "plt.ylabel('AUC')\n",
        "ax.legend()\n",
        "plt.show()\n",
        "print('optimal lambda for which auc is maximum : ',1//optimal_c)"
      ],
      "execution_count": 57,
      "outputs": [
        {
          "output_type": "stream",
          "text": [
            "/usr/local/lib/python3.7/dist-packages/sklearn/linear_model/_sag.py:330: ConvergenceWarning: The max_iter was reached which means the coef_ did not converge\n",
            "  \"the coef_ did not converge\", ConvergenceWarning)\n",
            "/usr/local/lib/python3.7/dist-packages/sklearn/linear_model/_sag.py:330: ConvergenceWarning: The max_iter was reached which means the coef_ did not converge\n",
            "  \"the coef_ did not converge\", ConvergenceWarning)\n",
            "/usr/local/lib/python3.7/dist-packages/sklearn/linear_model/_sag.py:330: ConvergenceWarning: The max_iter was reached which means the coef_ did not converge\n",
            "  \"the coef_ did not converge\", ConvergenceWarning)\n",
            "/usr/local/lib/python3.7/dist-packages/sklearn/linear_model/_sag.py:330: ConvergenceWarning: The max_iter was reached which means the coef_ did not converge\n",
            "  \"the coef_ did not converge\", ConvergenceWarning)\n"
          ],
          "name": "stderr"
        },
        {
          "output_type": "display_data",
          "data": {
            "image/png": "[encoded data removed]",
            "text/plain": [
              "<Figure size 432x288 with 1 Axes>"
            ]
          },
          "metadata": {
            "tags": [],
            "needs_background": "light"
          }
        },
        {
          "output_type": "stream",
          "text": [
            "optimal lambda for which auc is maximum :  0\n"
          ],
          "name": "stdout"
        }
      ]
    },
    {
      "cell_type": "code",
      "metadata": {
        "id": "Kmrdue14eM_X",
        "outputId": "d3de32d8-bed2-41da-8e8b-a135364ecbdd",
        "colab": {
          "base_uri": "https://localhost:8080/",
          "height": 329
        }
      },
      "source": [
        "lr=LogisticRegression(penalty='l1',C=optimal_c, solver='saga')\n",
        "lr.fit(X_train_w2v,y_train)\n",
        "predi=lr.predict_proba(X_test_w2v)[:,1]\n",
        "fpr1, tpr1, thresholds1 = metrics.roc_curve(y_test, predi)\n",
        "pred=lr.predict_proba(X_train_w2v)[:,1]\n",
        "fpr2,tpr2,thresholds2=metrics.roc_curve(y_train,pred)\n",
        "fig = plt.figure()\n",
        "ax = plt.subplot(111)\n",
        "ax.plot(fpr1, tpr1, label='Test ROC ,auc='+str(roc_auc_score(y_test,predi)))\n",
        "ax.plot(fpr2, tpr2, label='Train ROC ,auc='+str(roc_auc_score(y_train,pred)))\n",
        "plt.title('ROC')\n",
        "plt.xlabel('FPR')\n",
        "plt.ylabel('TPR')\n",
        "ax.legend()\n",
        "plt.show()"
      ],
      "execution_count": 59,
      "outputs": [
        {
          "output_type": "stream",
          "text": [
            "/usr/local/lib/python3.7/dist-packages/sklearn/linear_model/_sag.py:330: ConvergenceWarning: The max_iter was reached which means the coef_ did not converge\n",
            "  \"the coef_ did not converge\", ConvergenceWarning)\n"
          ],
          "name": "stderr"
        },
        {
          "output_type": "display_data",
          "data": {
            "image/png": "[encoded data removed]",
            "text/plain": [
              "<Figure size 432x288 with 1 Axes>"
            ]
          },
          "metadata": {
            "tags": [],
            "needs_background": "light"
          }
        }
      ]
    },
    {
      "cell_type": "code",
      "metadata": {
        "id": "633sgEoPeXoU",
        "outputId": "70c562b5-9a82-49c6-a5d0-5bc86140337f",
        "colab": {
          "base_uri": "https://localhost:8080/",
          "height": 329
        }
      },
      "source": [
        "#Confusion matrix using heatmap for test data\n",
        "from sklearn.metrics import confusion_matrix\n",
        "lr=LogisticRegression(penalty='l1',C=optimal_c, solver='saga')\n",
        "lr.fit(X_train_w2v,y_train)\n",
        "predic=lr.predict(X_test_w2v)\n",
        "import seaborn as sns\n",
        "conf_mat = confusion_matrix(y_test, predic)\n",
        "class_label = [\"negative\", \"positive\"]\n",
        "df = pd.DataFrame(conf_mat, index = class_label, columns = class_label)\n",
        "sns.heatmap(df, annot = True,fmt=\"d\")\n",
        "plt.title(\"Confusion Matrix\")\n",
        "plt.xlabel(\"Predicted Label\")\n",
        "plt.ylabel(\"True Label\")\n",
        "plt.show()"
      ],
      "execution_count": 60,
      "outputs": [
        {
          "output_type": "stream",
          "text": [
            "/usr/local/lib/python3.7/dist-packages/sklearn/linear_model/_sag.py:330: ConvergenceWarning: The max_iter was reached which means the coef_ did not converge\n",
            "  \"the coef_ did not converge\", ConvergenceWarning)\n"
          ],
          "name": "stderr"
        },
        {
          "output_type": "display_data",
          "data": {
            "image/png": "[encoded data removed]",
            "text/plain": [
              "<Figure size 432x288 with 2 Axes>"
            ]
          },
          "metadata": {
            "tags": [],
            "needs_background": "light"
          }
        }
      ]
    },
    {
      "cell_type": "code",
      "metadata": {
        "id": "Flerp3zCegFk"
      },
      "source": [
        ""
      ],
      "execution_count": null,
      "outputs": []
    }
  ]
}