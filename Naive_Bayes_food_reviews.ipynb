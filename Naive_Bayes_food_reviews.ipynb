{
  "nbformat": 4,
  "nbformat_minor": 0,
  "metadata": {
    "colab": {
      "name": "Naive Bayes - food reviews.ipynb",
      "provenance": []
    },
    "kernelspec": {
      "name": "python3",
      "display_name": "Python 3"
    },
    "language_info": {
      "name": "python"
    }
  },
  "cells": [
    {
      "cell_type": "markdown",
      "metadata": {
        "id": "mKGjfFMkcrxY"
      },
      "source": [
        "# Amazon Fine Food Reviews Analysis\n",
        "\n",
        "\n",
        "Data Source: https://www.kaggle.com/snap/amazon-fine-food-reviews <br>\n",
        "\n",
        "The dataset consists of reviews of fine foods from Amazon products.<br>\n",
        "\n",
        "Number of reviews: 568,454<br>\n",
        "Number of users: 256,059<br>\n",
        "Number of products: 74,258<br>\n",
        "Timespan: Oct 1999 - Oct 2012<br>\n",
        "Number of Attributes/Columns in data: 10 \n",
        "\n",
        "Attribute Information:\n",
        "\n",
        "1. Id\n",
        "2. ProductId - unique identifier for the product\n",
        "3. UserId - unqiue identifier for the user\n",
        "4. ProfileName\n",
        "5. HelpfulnessNumerator - number of users who found the review helpful\n",
        "6. HelpfulnessDenominator - number of users who indicated whether they found the review helpful or not\n",
        "7. Score - rating between 1 and 5\n",
        "8. Time - timestamp for the review\n",
        "9. Summary - brief summary of the review\n",
        "10. Text - text of the review\n",
        "\n",
        "\n",
        "#### Objective:\n",
        "Given a review, determine whether the review is positive (Rating of 4 or 5) or negative (rating of 1 or 2).\n",
        "\n",
        "<br>\n",
        "[Q] How to determine if a review is positive or negative?<br>\n",
        "<br> \n",
        "[Ans] We could use the Score/Rating. A rating of 4 or 5 could be cosnidered a positive review. A review of 1 or 2 could be considered negative. A review of 3 is nuetral and ignored. This is an approximate way of determining the polarity (positivity/negativity) of a review.\n"
      ]
    },
    {
      "cell_type": "code",
      "metadata": {
        "id": "1dBmqiRlcrxa"
      },
      "source": [
        "%matplotlib inline\n",
        "import sqlite3\n",
        "import pandas as pd\n",
        "import numpy as np\n",
        "import nltk\n",
        "import string\n",
        "import matplotlib.pyplot as plt\n",
        "import seaborn as sns\n",
        "from sklearn.feature_extraction.text import TfidfTransformer\n",
        "from sklearn.feature_extraction.text import TfidfVectorizer\n",
        "\n",
        "from sklearn.feature_extraction.text import CountVectorizer\n",
        "from sklearn.metrics import confusion_matrix\n",
        "from sklearn import metrics\n",
        "from sklearn.metrics import roc_curve, auc\n",
        "from nltk.stem.porter import PorterStemmer\n",
        "\n",
        "import re\n",
        "# Tutorial about Python regular expressions: https://pymotw.com/2/re/\n",
        "import string\n",
        "from nltk.corpus import stopwords\n",
        "from nltk.stem import PorterStemmer\n",
        "from nltk.stem.wordnet import WordNetLemmatizer\n",
        "\n",
        "from gensim.models import Word2Vec\n",
        "from gensim.models import KeyedVectors\n",
        "import pickle\n",
        "\n",
        "from tqdm import tqdm\n",
        "import os"
      ],
      "execution_count": 1,
      "outputs": []
    },
    {
      "cell_type": "code",
      "metadata": {
        "colab": {
          "base_uri": "https://localhost:8080/"
        },
        "id": "Zt5fUzVRc0R9",
        "outputId": "dde516ba-c297-4018-cb71-9c507329fecb"
      },
      "source": [
        "from google.colab import drive\n",
        "drive.mount('/content/drive')"
      ],
      "execution_count": 2,
      "outputs": [
        {
          "output_type": "stream",
          "text": [
            "Mounted at /content/drive\n"
          ],
          "name": "stdout"
        }
      ]
    },
    {
      "cell_type": "code",
      "metadata": {
        "colab": {
          "base_uri": "https://localhost:8080/"
        },
        "id": "6x3rB2Rdc-dt",
        "outputId": "56633d30-2a76-4242-edad-e8208398b71c"
      },
      "source": [
        "%cd '/content/drive/My Drive/AAIC/Food Reviews/'"
      ],
      "execution_count": 3,
      "outputs": [
        {
          "output_type": "stream",
          "text": [
            "/content/drive/My Drive/AAIC/Food Reviews\n"
          ],
          "name": "stdout"
        }
      ]
    },
    {
      "cell_type": "markdown",
      "metadata": {
        "id": "_Q1fq8Bycrxb"
      },
      "source": [
        "filtering only positive and negative reviews i.e. not taking into consideration those reviews with Score=3"
      ]
    },
    {
      "cell_type": "code",
      "metadata": {
        "id": "24rRuqw2crxc"
      },
      "source": [
        "# using the SQLite Table to read data.\n",
        "con = sqlite3.connect('database.sqlite') \n",
        "\n",
        "filtered_data = pd.read_sql_query(\"\"\" \n",
        "                                    SELECT * FROM Reviews WHERE Score != 3 LIMIT 50000\n",
        "                                  \"\"\", con)"
      ],
      "execution_count": 4,
      "outputs": []
    },
    {
      "cell_type": "code",
      "metadata": {
        "colab": {
          "base_uri": "https://localhost:8080/",
          "height": 204
        },
        "id": "1fHKNAkocrxc",
        "outputId": "f87a799f-7e9a-4139-c0df-0263ba8bfadd"
      },
      "source": [
        "filtered_data.head(5)"
      ],
      "execution_count": 5,
      "outputs": [
        {
          "output_type": "execute_result",
          "data": {
            "text/html": [
              "<div>\n",
              "<style scoped>\n",
              "    .dataframe tbody tr th:only-of-type {\n",
              "        vertical-align: middle;\n",
              "    }\n",
              "\n",
              "    .dataframe tbody tr th {\n",
              "        vertical-align: top;\n",
              "    }\n",
              "\n",
              "    .dataframe thead th {\n",
              "        text-align: right;\n",
              "    }\n",
              "</style>\n",
              "<table border=\"1\" class=\"dataframe\">\n",
              "  <thead>\n",
              "    <tr style=\"text-align: right;\">\n",
              "      <th></th>\n",
              "      <th>Id</th>\n",
              "      <th>ProductId</th>\n",
              "      <th>UserId</th>\n",
              "      <th>ProfileName</th>\n",
              "      <th>HelpfulnessNumerator</th>\n",
              "      <th>HelpfulnessDenominator</th>\n",
              "      <th>Score</th>\n",
              "      <th>Time</th>\n",
              "      <th>Summary</th>\n",
              "      <th>Text</th>\n",
              "    </tr>\n",
              "  </thead>\n",
              "  <tbody>\n",
              "    <tr>\n",
              "      <th>0</th>\n",
              "      <td>1</td>\n",
              "      <td>B001E4KFG0</td>\n",
              "      <td>A3SGXH7AUHU8GW</td>\n",
              "      <td>delmartian</td>\n",
              "      <td>1</td>\n",
              "      <td>1</td>\n",
              "      <td>5</td>\n",
              "      <td>1303862400</td>\n",
              "      <td>Good Quality Dog Food</td>\n",
              "      <td>I have bought several of the Vitality canned d...</td>\n",
              "    </tr>\n",
              "    <tr>\n",
              "      <th>1</th>\n",
              "      <td>2</td>\n",
              "      <td>B00813GRG4</td>\n",
              "      <td>A1D87F6ZCVE5NK</td>\n",
              "      <td>dll pa</td>\n",
              "      <td>0</td>\n",
              "      <td>0</td>\n",
              "      <td>1</td>\n",
              "      <td>1346976000</td>\n",
              "      <td>Not as Advertised</td>\n",
              "      <td>Product arrived labeled as Jumbo Salted Peanut...</td>\n",
              "    </tr>\n",
              "    <tr>\n",
              "      <th>2</th>\n",
              "      <td>3</td>\n",
              "      <td>B000LQOCH0</td>\n",
              "      <td>ABXLMWJIXXAIN</td>\n",
              "      <td>Natalia Corres \"Natalia Corres\"</td>\n",
              "      <td>1</td>\n",
              "      <td>1</td>\n",
              "      <td>4</td>\n",
              "      <td>1219017600</td>\n",
              "      <td>\"Delight\" says it all</td>\n",
              "      <td>This is a confection that has been around a fe...</td>\n",
              "    </tr>\n",
              "    <tr>\n",
              "      <th>3</th>\n",
              "      <td>4</td>\n",
              "      <td>B000UA0QIQ</td>\n",
              "      <td>A395BORC6FGVXV</td>\n",
              "      <td>Karl</td>\n",
              "      <td>3</td>\n",
              "      <td>3</td>\n",
              "      <td>2</td>\n",
              "      <td>1307923200</td>\n",
              "      <td>Cough Medicine</td>\n",
              "      <td>If you are looking for the secret ingredient i...</td>\n",
              "    </tr>\n",
              "    <tr>\n",
              "      <th>4</th>\n",
              "      <td>5</td>\n",
              "      <td>B006K2ZZ7K</td>\n",
              "      <td>A1UQRSCLF8GW1T</td>\n",
              "      <td>Michael D. Bigham \"M. Wassir\"</td>\n",
              "      <td>0</td>\n",
              "      <td>0</td>\n",
              "      <td>5</td>\n",
              "      <td>1350777600</td>\n",
              "      <td>Great taffy</td>\n",
              "      <td>Great taffy at a great price.  There was a wid...</td>\n",
              "    </tr>\n",
              "  </tbody>\n",
              "</table>\n",
              "</div>"
            ],
            "text/plain": [
              "   Id  ...                                               Text\n",
              "0   1  ...  I have bought several of the Vitality canned d...\n",
              "1   2  ...  Product arrived labeled as Jumbo Salted Peanut...\n",
              "2   3  ...  This is a confection that has been around a fe...\n",
              "3   4  ...  If you are looking for the secret ingredient i...\n",
              "4   5  ...  Great taffy at a great price.  There was a wid...\n",
              "\n",
              "[5 rows x 10 columns]"
            ]
          },
          "metadata": {
            "tags": []
          },
          "execution_count": 5
        }
      ]
    },
    {
      "cell_type": "code",
      "metadata": {
        "scrolled": true,
        "colab": {
          "base_uri": "https://localhost:8080/",
          "height": 159
        },
        "id": "O3059dCNcrxd",
        "outputId": "d981420b-e321-44a5-d174-179f85484547"
      },
      "source": [
        "# Give reviews with Score>3 a positive rating (1), and reviews with a score<3 a negative rating (0).\n",
        "def partition(x):\n",
        "    if x < 3:\n",
        "        return 0\n",
        "    return 1\n",
        "#changing reviews with score less than 3 to be positive and vice-versa\n",
        "actualScore = filtered_data['Score']\n",
        "positiveNegative = actualScore.map(partition) \n",
        "filtered_data['Score'] = positiveNegative\n",
        "print(\"Number of data points in our data\", filtered_data.shape)\n",
        "filtered_data.head(3)"
      ],
      "execution_count": 6,
      "outputs": [
        {
          "output_type": "stream",
          "text": [
            "Number of data points in our data (50000, 10)\n"
          ],
          "name": "stdout"
        },
        {
          "output_type": "execute_result",
          "data": {
            "text/html": [
              "<div>\n",
              "<style scoped>\n",
              "    .dataframe tbody tr th:only-of-type {\n",
              "        vertical-align: middle;\n",
              "    }\n",
              "\n",
              "    .dataframe tbody tr th {\n",
              "        vertical-align: top;\n",
              "    }\n",
              "\n",
              "    .dataframe thead th {\n",
              "        text-align: right;\n",
              "    }\n",
              "</style>\n",
              "<table border=\"1\" class=\"dataframe\">\n",
              "  <thead>\n",
              "    <tr style=\"text-align: right;\">\n",
              "      <th></th>\n",
              "      <th>Id</th>\n",
              "      <th>ProductId</th>\n",
              "      <th>UserId</th>\n",
              "      <th>ProfileName</th>\n",
              "      <th>HelpfulnessNumerator</th>\n",
              "      <th>HelpfulnessDenominator</th>\n",
              "      <th>Score</th>\n",
              "      <th>Time</th>\n",
              "      <th>Summary</th>\n",
              "      <th>Text</th>\n",
              "    </tr>\n",
              "  </thead>\n",
              "  <tbody>\n",
              "    <tr>\n",
              "      <th>0</th>\n",
              "      <td>1</td>\n",
              "      <td>B001E4KFG0</td>\n",
              "      <td>A3SGXH7AUHU8GW</td>\n",
              "      <td>delmartian</td>\n",
              "      <td>1</td>\n",
              "      <td>1</td>\n",
              "      <td>1</td>\n",
              "      <td>1303862400</td>\n",
              "      <td>Good Quality Dog Food</td>\n",
              "      <td>I have bought several of the Vitality canned d...</td>\n",
              "    </tr>\n",
              "    <tr>\n",
              "      <th>1</th>\n",
              "      <td>2</td>\n",
              "      <td>B00813GRG4</td>\n",
              "      <td>A1D87F6ZCVE5NK</td>\n",
              "      <td>dll pa</td>\n",
              "      <td>0</td>\n",
              "      <td>0</td>\n",
              "      <td>0</td>\n",
              "      <td>1346976000</td>\n",
              "      <td>Not as Advertised</td>\n",
              "      <td>Product arrived labeled as Jumbo Salted Peanut...</td>\n",
              "    </tr>\n",
              "    <tr>\n",
              "      <th>2</th>\n",
              "      <td>3</td>\n",
              "      <td>B000LQOCH0</td>\n",
              "      <td>ABXLMWJIXXAIN</td>\n",
              "      <td>Natalia Corres \"Natalia Corres\"</td>\n",
              "      <td>1</td>\n",
              "      <td>1</td>\n",
              "      <td>1</td>\n",
              "      <td>1219017600</td>\n",
              "      <td>\"Delight\" says it all</td>\n",
              "      <td>This is a confection that has been around a fe...</td>\n",
              "    </tr>\n",
              "  </tbody>\n",
              "</table>\n",
              "</div>"
            ],
            "text/plain": [
              "   Id  ...                                               Text\n",
              "0   1  ...  I have bought several of the Vitality canned d...\n",
              "1   2  ...  Product arrived labeled as Jumbo Salted Peanut...\n",
              "2   3  ...  This is a confection that has been around a fe...\n",
              "\n",
              "[3 rows x 10 columns]"
            ]
          },
          "metadata": {
            "tags": []
          },
          "execution_count": 6
        }
      ]
    },
    {
      "cell_type": "markdown",
      "metadata": {
        "id": "Za81e7jrcrxe"
      },
      "source": [
        "Lets find some data anamolies like:\n",
        "* Check if there are any duplicate reviews given by a user"
      ]
    },
    {
      "cell_type": "code",
      "metadata": {
        "colab": {
          "base_uri": "https://localhost:8080/",
          "height": 221
        },
        "id": "_ZIH2fEacrxe",
        "outputId": "dad0e9f9-32e8-4bfa-90fd-99a83d69cdaa"
      },
      "source": [
        "display = pd.read_sql_query(\"\"\"\n",
        "SELECT UserId, ProductId, ProfileName, Time, Score, Text, COUNT(*)\n",
        "FROM Reviews\n",
        "WHERE Score != 3\n",
        "GROUP BY UserId, ProductId, ProfileName, Time, Score, Text\n",
        "HAVING COUNT(*)>1\n",
        "\"\"\", con)\n",
        "\n",
        "print(display.shape)\n",
        "display.head()"
      ],
      "execution_count": 7,
      "outputs": [
        {
          "output_type": "stream",
          "text": [
            "(734, 7)\n"
          ],
          "name": "stdout"
        },
        {
          "output_type": "execute_result",
          "data": {
            "text/html": [
              "<div>\n",
              "<style scoped>\n",
              "    .dataframe tbody tr th:only-of-type {\n",
              "        vertical-align: middle;\n",
              "    }\n",
              "\n",
              "    .dataframe tbody tr th {\n",
              "        vertical-align: top;\n",
              "    }\n",
              "\n",
              "    .dataframe thead th {\n",
              "        text-align: right;\n",
              "    }\n",
              "</style>\n",
              "<table border=\"1\" class=\"dataframe\">\n",
              "  <thead>\n",
              "    <tr style=\"text-align: right;\">\n",
              "      <th></th>\n",
              "      <th>UserId</th>\n",
              "      <th>ProductId</th>\n",
              "      <th>ProfileName</th>\n",
              "      <th>Time</th>\n",
              "      <th>Score</th>\n",
              "      <th>Text</th>\n",
              "      <th>COUNT(*)</th>\n",
              "    </tr>\n",
              "  </thead>\n",
              "  <tbody>\n",
              "    <tr>\n",
              "      <th>0</th>\n",
              "      <td>A10GBEDF4RCOVI</td>\n",
              "      <td>B0037272UY</td>\n",
              "      <td>Superchiller</td>\n",
              "      <td>1310774400</td>\n",
              "      <td>1</td>\n",
              "      <td>My girlfriend and I have been rescuing, foster...</td>\n",
              "      <td>2</td>\n",
              "    </tr>\n",
              "    <tr>\n",
              "      <th>1</th>\n",
              "      <td>A10NJPL8SA82WC</td>\n",
              "      <td>B0026RQTGE</td>\n",
              "      <td>STANIMAL</td>\n",
              "      <td>1343779200</td>\n",
              "      <td>5</td>\n",
              "      <td>These things are awesome.  These Greenies real...</td>\n",
              "      <td>2</td>\n",
              "    </tr>\n",
              "    <tr>\n",
              "      <th>2</th>\n",
              "      <td>A10NJPL8SA82WC</td>\n",
              "      <td>B002QWHJOU</td>\n",
              "      <td>STANIMAL</td>\n",
              "      <td>1343779200</td>\n",
              "      <td>5</td>\n",
              "      <td>These things are awesome.  These Greenies real...</td>\n",
              "      <td>2</td>\n",
              "    </tr>\n",
              "    <tr>\n",
              "      <th>3</th>\n",
              "      <td>A10NJPL8SA82WC</td>\n",
              "      <td>B002QWP89S</td>\n",
              "      <td>STANIMAL</td>\n",
              "      <td>1343779200</td>\n",
              "      <td>5</td>\n",
              "      <td>These things are awesome.  These Greenies real...</td>\n",
              "      <td>2</td>\n",
              "    </tr>\n",
              "    <tr>\n",
              "      <th>4</th>\n",
              "      <td>A10NJPL8SA82WC</td>\n",
              "      <td>B002QWP8H0</td>\n",
              "      <td>STANIMAL</td>\n",
              "      <td>1343779200</td>\n",
              "      <td>5</td>\n",
              "      <td>These things are awesome.  These Greenies real...</td>\n",
              "      <td>2</td>\n",
              "    </tr>\n",
              "  </tbody>\n",
              "</table>\n",
              "</div>"
            ],
            "text/plain": [
              "           UserId  ... COUNT(*)\n",
              "0  A10GBEDF4RCOVI  ...        2\n",
              "1  A10NJPL8SA82WC  ...        2\n",
              "2  A10NJPL8SA82WC  ...        2\n",
              "3  A10NJPL8SA82WC  ...        2\n",
              "4  A10NJPL8SA82WC  ...        2\n",
              "\n",
              "[5 rows x 7 columns]"
            ]
          },
          "metadata": {
            "tags": []
          },
          "execution_count": 7
        }
      ]
    },
    {
      "cell_type": "code",
      "metadata": {
        "colab": {
          "base_uri": "https://localhost:8080/",
          "height": 419
        },
        "id": "aRVjoCJocrxf",
        "outputId": "97af7245-970a-4bf5-d11a-5145a2341320"
      },
      "source": [
        "display.head(100)"
      ],
      "execution_count": 8,
      "outputs": [
        {
          "output_type": "execute_result",
          "data": {
            "text/html": [
              "<div>\n",
              "<style scoped>\n",
              "    .dataframe tbody tr th:only-of-type {\n",
              "        vertical-align: middle;\n",
              "    }\n",
              "\n",
              "    .dataframe tbody tr th {\n",
              "        vertical-align: top;\n",
              "    }\n",
              "\n",
              "    .dataframe thead th {\n",
              "        text-align: right;\n",
              "    }\n",
              "</style>\n",
              "<table border=\"1\" class=\"dataframe\">\n",
              "  <thead>\n",
              "    <tr style=\"text-align: right;\">\n",
              "      <th></th>\n",
              "      <th>UserId</th>\n",
              "      <th>ProductId</th>\n",
              "      <th>ProfileName</th>\n",
              "      <th>Time</th>\n",
              "      <th>Score</th>\n",
              "      <th>Text</th>\n",
              "      <th>COUNT(*)</th>\n",
              "    </tr>\n",
              "  </thead>\n",
              "  <tbody>\n",
              "    <tr>\n",
              "      <th>0</th>\n",
              "      <td>A10GBEDF4RCOVI</td>\n",
              "      <td>B0037272UY</td>\n",
              "      <td>Superchiller</td>\n",
              "      <td>1310774400</td>\n",
              "      <td>1</td>\n",
              "      <td>My girlfriend and I have been rescuing, foster...</td>\n",
              "      <td>2</td>\n",
              "    </tr>\n",
              "    <tr>\n",
              "      <th>1</th>\n",
              "      <td>A10NJPL8SA82WC</td>\n",
              "      <td>B0026RQTGE</td>\n",
              "      <td>STANIMAL</td>\n",
              "      <td>1343779200</td>\n",
              "      <td>5</td>\n",
              "      <td>These things are awesome.  These Greenies real...</td>\n",
              "      <td>2</td>\n",
              "    </tr>\n",
              "    <tr>\n",
              "      <th>2</th>\n",
              "      <td>A10NJPL8SA82WC</td>\n",
              "      <td>B002QWHJOU</td>\n",
              "      <td>STANIMAL</td>\n",
              "      <td>1343779200</td>\n",
              "      <td>5</td>\n",
              "      <td>These things are awesome.  These Greenies real...</td>\n",
              "      <td>2</td>\n",
              "    </tr>\n",
              "    <tr>\n",
              "      <th>3</th>\n",
              "      <td>A10NJPL8SA82WC</td>\n",
              "      <td>B002QWP89S</td>\n",
              "      <td>STANIMAL</td>\n",
              "      <td>1343779200</td>\n",
              "      <td>5</td>\n",
              "      <td>These things are awesome.  These Greenies real...</td>\n",
              "      <td>2</td>\n",
              "    </tr>\n",
              "    <tr>\n",
              "      <th>4</th>\n",
              "      <td>A10NJPL8SA82WC</td>\n",
              "      <td>B002QWP8H0</td>\n",
              "      <td>STANIMAL</td>\n",
              "      <td>1343779200</td>\n",
              "      <td>5</td>\n",
              "      <td>These things are awesome.  These Greenies real...</td>\n",
              "      <td>2</td>\n",
              "    </tr>\n",
              "    <tr>\n",
              "      <th>...</th>\n",
              "      <td>...</td>\n",
              "      <td>...</td>\n",
              "      <td>...</td>\n",
              "      <td>...</td>\n",
              "      <td>...</td>\n",
              "      <td>...</td>\n",
              "      <td>...</td>\n",
              "    </tr>\n",
              "    <tr>\n",
              "      <th>95</th>\n",
              "      <td>A1TMAVN4CEM8U8</td>\n",
              "      <td>B0034KN29O</td>\n",
              "      <td>Gunner</td>\n",
              "      <td>1332115200</td>\n",
              "      <td>5</td>\n",
              "      <td>Diamond Almonds&lt;br /&gt;Almonds are a good source...</td>\n",
              "      <td>2</td>\n",
              "    </tr>\n",
              "    <tr>\n",
              "      <th>96</th>\n",
              "      <td>A1TMAVN4CEM8U8</td>\n",
              "      <td>B0034KP00S</td>\n",
              "      <td>Gunner</td>\n",
              "      <td>1332115200</td>\n",
              "      <td>5</td>\n",
              "      <td>Diamond Almonds&lt;br /&gt;Almonds are a good source...</td>\n",
              "      <td>2</td>\n",
              "    </tr>\n",
              "    <tr>\n",
              "      <th>97</th>\n",
              "      <td>A1TMAVN4CEM8U8</td>\n",
              "      <td>B0049Z5OSK</td>\n",
              "      <td>Gunner</td>\n",
              "      <td>1332115200</td>\n",
              "      <td>5</td>\n",
              "      <td>Diamond Almonds&lt;br /&gt;Almonds are a good source...</td>\n",
              "      <td>2</td>\n",
              "    </tr>\n",
              "    <tr>\n",
              "      <th>98</th>\n",
              "      <td>A1TMAVN4CEM8U8</td>\n",
              "      <td>B0049Z9ANU</td>\n",
              "      <td>Gunner</td>\n",
              "      <td>1332115200</td>\n",
              "      <td>5</td>\n",
              "      <td>Diamond Almonds&lt;br /&gt;Almonds are a good source...</td>\n",
              "      <td>2</td>\n",
              "    </tr>\n",
              "    <tr>\n",
              "      <th>99</th>\n",
              "      <td>A1TMAVN4CEM8U8</td>\n",
              "      <td>B0049ZCF9G</td>\n",
              "      <td>Gunner</td>\n",
              "      <td>1332115200</td>\n",
              "      <td>5</td>\n",
              "      <td>Diamond Almonds&lt;br /&gt;Almonds are a good source...</td>\n",
              "      <td>2</td>\n",
              "    </tr>\n",
              "  </tbody>\n",
              "</table>\n",
              "<p>100 rows × 7 columns</p>\n",
              "</div>"
            ],
            "text/plain": [
              "            UserId  ... COUNT(*)\n",
              "0   A10GBEDF4RCOVI  ...        2\n",
              "1   A10NJPL8SA82WC  ...        2\n",
              "2   A10NJPL8SA82WC  ...        2\n",
              "3   A10NJPL8SA82WC  ...        2\n",
              "4   A10NJPL8SA82WC  ...        2\n",
              "..             ...  ...      ...\n",
              "95  A1TMAVN4CEM8U8  ...        2\n",
              "96  A1TMAVN4CEM8U8  ...        2\n",
              "97  A1TMAVN4CEM8U8  ...        2\n",
              "98  A1TMAVN4CEM8U8  ...        2\n",
              "99  A1TMAVN4CEM8U8  ...        2\n",
              "\n",
              "[100 rows x 7 columns]"
            ]
          },
          "metadata": {
            "tags": []
          },
          "execution_count": 8
        }
      ]
    },
    {
      "cell_type": "code",
      "metadata": {
        "colab": {
          "base_uri": "https://localhost:8080/"
        },
        "id": "UvxIcZwIcrxf",
        "outputId": "995edc70-f26b-43e5-cf64-a337d541845b"
      },
      "source": [
        "sample1 = pd.read_sql_query(\"\"\"\n",
        "SELECT *\n",
        "FROM Reviews\n",
        "WHERE Score != 3\n",
        "and UserId = \"A10NJPL8SA82WC\"\n",
        "\"\"\", con)\n",
        "print(sample1.shape)"
      ],
      "execution_count": 9,
      "outputs": [
        {
          "output_type": "stream",
          "text": [
            "(8, 10)\n"
          ],
          "name": "stdout"
        }
      ]
    },
    {
      "cell_type": "code",
      "metadata": {
        "colab": {
          "base_uri": "https://localhost:8080/",
          "height": 297
        },
        "id": "UtBaV58Scrxg",
        "outputId": "58982057-b48c-4325-c3f3-c242b09802d8"
      },
      "source": [
        "sample1.head(10)"
      ],
      "execution_count": 10,
      "outputs": [
        {
          "output_type": "execute_result",
          "data": {
            "text/html": [
              "<div>\n",
              "<style scoped>\n",
              "    .dataframe tbody tr th:only-of-type {\n",
              "        vertical-align: middle;\n",
              "    }\n",
              "\n",
              "    .dataframe tbody tr th {\n",
              "        vertical-align: top;\n",
              "    }\n",
              "\n",
              "    .dataframe thead th {\n",
              "        text-align: right;\n",
              "    }\n",
              "</style>\n",
              "<table border=\"1\" class=\"dataframe\">\n",
              "  <thead>\n",
              "    <tr style=\"text-align: right;\">\n",
              "      <th></th>\n",
              "      <th>Id</th>\n",
              "      <th>ProductId</th>\n",
              "      <th>UserId</th>\n",
              "      <th>ProfileName</th>\n",
              "      <th>HelpfulnessNumerator</th>\n",
              "      <th>HelpfulnessDenominator</th>\n",
              "      <th>Score</th>\n",
              "      <th>Time</th>\n",
              "      <th>Summary</th>\n",
              "      <th>Text</th>\n",
              "    </tr>\n",
              "  </thead>\n",
              "  <tbody>\n",
              "    <tr>\n",
              "      <th>0</th>\n",
              "      <td>21114</td>\n",
              "      <td>B002QWP89S</td>\n",
              "      <td>A10NJPL8SA82WC</td>\n",
              "      <td>STANIMAL</td>\n",
              "      <td>0</td>\n",
              "      <td>0</td>\n",
              "      <td>5</td>\n",
              "      <td>1343779200</td>\n",
              "      <td>Awesome Product</td>\n",
              "      <td>These things are awesome.  These Greenies real...</td>\n",
              "    </tr>\n",
              "    <tr>\n",
              "      <th>1</th>\n",
              "      <td>21115</td>\n",
              "      <td>B002QWP89S</td>\n",
              "      <td>A10NJPL8SA82WC</td>\n",
              "      <td>STANIMAL</td>\n",
              "      <td>0</td>\n",
              "      <td>0</td>\n",
              "      <td>5</td>\n",
              "      <td>1343779200</td>\n",
              "      <td>Awesome Product</td>\n",
              "      <td>These things are awesome.  These Greenies real...</td>\n",
              "    </tr>\n",
              "    <tr>\n",
              "      <th>2</th>\n",
              "      <td>74763</td>\n",
              "      <td>B0026RQTGE</td>\n",
              "      <td>A10NJPL8SA82WC</td>\n",
              "      <td>STANIMAL</td>\n",
              "      <td>0</td>\n",
              "      <td>0</td>\n",
              "      <td>5</td>\n",
              "      <td>1343779200</td>\n",
              "      <td>Awesome Product</td>\n",
              "      <td>These things are awesome.  These Greenies real...</td>\n",
              "    </tr>\n",
              "    <tr>\n",
              "      <th>3</th>\n",
              "      <td>74764</td>\n",
              "      <td>B0026RQTGE</td>\n",
              "      <td>A10NJPL8SA82WC</td>\n",
              "      <td>STANIMAL</td>\n",
              "      <td>0</td>\n",
              "      <td>0</td>\n",
              "      <td>5</td>\n",
              "      <td>1343779200</td>\n",
              "      <td>Awesome Product</td>\n",
              "      <td>These things are awesome.  These Greenies real...</td>\n",
              "    </tr>\n",
              "    <tr>\n",
              "      <th>4</th>\n",
              "      <td>329544</td>\n",
              "      <td>B002QWHJOU</td>\n",
              "      <td>A10NJPL8SA82WC</td>\n",
              "      <td>STANIMAL</td>\n",
              "      <td>0</td>\n",
              "      <td>0</td>\n",
              "      <td>5</td>\n",
              "      <td>1343779200</td>\n",
              "      <td>Awesome Product</td>\n",
              "      <td>These things are awesome.  These Greenies real...</td>\n",
              "    </tr>\n",
              "    <tr>\n",
              "      <th>5</th>\n",
              "      <td>329545</td>\n",
              "      <td>B002QWHJOU</td>\n",
              "      <td>A10NJPL8SA82WC</td>\n",
              "      <td>STANIMAL</td>\n",
              "      <td>0</td>\n",
              "      <td>0</td>\n",
              "      <td>5</td>\n",
              "      <td>1343779200</td>\n",
              "      <td>Awesome Product</td>\n",
              "      <td>These things are awesome.  These Greenies real...</td>\n",
              "    </tr>\n",
              "    <tr>\n",
              "      <th>6</th>\n",
              "      <td>355635</td>\n",
              "      <td>B002QWP8H0</td>\n",
              "      <td>A10NJPL8SA82WC</td>\n",
              "      <td>STANIMAL</td>\n",
              "      <td>0</td>\n",
              "      <td>0</td>\n",
              "      <td>5</td>\n",
              "      <td>1343779200</td>\n",
              "      <td>Awesome Product</td>\n",
              "      <td>These things are awesome.  These Greenies real...</td>\n",
              "    </tr>\n",
              "    <tr>\n",
              "      <th>7</th>\n",
              "      <td>355636</td>\n",
              "      <td>B002QWP8H0</td>\n",
              "      <td>A10NJPL8SA82WC</td>\n",
              "      <td>STANIMAL</td>\n",
              "      <td>0</td>\n",
              "      <td>0</td>\n",
              "      <td>5</td>\n",
              "      <td>1343779200</td>\n",
              "      <td>Awesome Product</td>\n",
              "      <td>These things are awesome.  These Greenies real...</td>\n",
              "    </tr>\n",
              "  </tbody>\n",
              "</table>\n",
              "</div>"
            ],
            "text/plain": [
              "       Id  ...                                               Text\n",
              "0   21114  ...  These things are awesome.  These Greenies real...\n",
              "1   21115  ...  These things are awesome.  These Greenies real...\n",
              "2   74763  ...  These things are awesome.  These Greenies real...\n",
              "3   74764  ...  These things are awesome.  These Greenies real...\n",
              "4  329544  ...  These things are awesome.  These Greenies real...\n",
              "5  329545  ...  These things are awesome.  These Greenies real...\n",
              "6  355635  ...  These things are awesome.  These Greenies real...\n",
              "7  355636  ...  These things are awesome.  These Greenies real...\n",
              "\n",
              "[8 rows x 10 columns]"
            ]
          },
          "metadata": {
            "tags": []
          },
          "execution_count": 10
        }
      ]
    },
    {
      "cell_type": "code",
      "metadata": {
        "id": "cxWekJuScrxg"
      },
      "source": [
        "#Sorting data according to ProductId in ascending order\n",
        "sorted_data=filtered_data.sort_values('ProductId', axis=0, ascending=True, inplace=False, kind='quicksort', na_position='last')"
      ],
      "execution_count": 11,
      "outputs": []
    },
    {
      "cell_type": "markdown",
      "metadata": {
        "id": "vc2QjZcfcrxg"
      },
      "source": [
        "### Drop duplicates"
      ]
    },
    {
      "cell_type": "code",
      "metadata": {
        "colab": {
          "base_uri": "https://localhost:8080/"
        },
        "id": "oZlgCxaicrxg",
        "outputId": "c91cd66d-01a6-4390-f32b-9cf700f59a9c"
      },
      "source": [
        "#Deduplication of entries\n",
        "final=sorted_data.drop_duplicates(subset={\"UserId\",\"ProfileName\",\"Time\",\"Text\"}, keep='first', inplace=False)\n",
        "final.shape"
      ],
      "execution_count": 12,
      "outputs": [
        {
          "output_type": "execute_result",
          "data": {
            "text/plain": [
              "(46072, 10)"
            ]
          },
          "metadata": {
            "tags": []
          },
          "execution_count": 12
        }
      ]
    },
    {
      "cell_type": "code",
      "metadata": {
        "colab": {
          "base_uri": "https://localhost:8080/"
        },
        "id": "bpaN6z3Tcrxh",
        "outputId": "cfa116f1-b288-46e1-a203-2bee5803e68f"
      },
      "source": [
        "#Checking to see how much % of data still remains\n",
        "(final['Id'].size*1.0)/(filtered_data['Id'].size*1.0)*100"
      ],
      "execution_count": 13,
      "outputs": [
        {
          "output_type": "execute_result",
          "data": {
            "text/plain": [
              "92.144"
            ]
          },
          "metadata": {
            "tags": []
          },
          "execution_count": 13
        }
      ]
    },
    {
      "cell_type": "markdown",
      "metadata": {
        "id": "j30gSBxmcrxh"
      },
      "source": [
        "Found rows where HelpfulnessNumerator is greater than HelpfulnessDenominator. These records are not valid, hence dropping them"
      ]
    },
    {
      "cell_type": "code",
      "metadata": {
        "colab": {
          "base_uri": "https://localhost:8080/",
          "height": 80
        },
        "id": "2UkNraMbcrxh",
        "outputId": "f13189b8-821c-4882-a272-a8e1bc9de0b1"
      },
      "source": [
        "final[final.HelpfulnessNumerator>final.HelpfulnessDenominator]"
      ],
      "execution_count": 14,
      "outputs": [
        {
          "output_type": "execute_result",
          "data": {
            "text/html": [
              "<div>\n",
              "<style scoped>\n",
              "    .dataframe tbody tr th:only-of-type {\n",
              "        vertical-align: middle;\n",
              "    }\n",
              "\n",
              "    .dataframe tbody tr th {\n",
              "        vertical-align: top;\n",
              "    }\n",
              "\n",
              "    .dataframe thead th {\n",
              "        text-align: right;\n",
              "    }\n",
              "</style>\n",
              "<table border=\"1\" class=\"dataframe\">\n",
              "  <thead>\n",
              "    <tr style=\"text-align: right;\">\n",
              "      <th></th>\n",
              "      <th>Id</th>\n",
              "      <th>ProductId</th>\n",
              "      <th>UserId</th>\n",
              "      <th>ProfileName</th>\n",
              "      <th>HelpfulnessNumerator</th>\n",
              "      <th>HelpfulnessDenominator</th>\n",
              "      <th>Score</th>\n",
              "      <th>Time</th>\n",
              "      <th>Summary</th>\n",
              "      <th>Text</th>\n",
              "    </tr>\n",
              "  </thead>\n",
              "  <tbody>\n",
              "    <tr>\n",
              "      <th>41159</th>\n",
              "      <td>44737</td>\n",
              "      <td>B001EQ55RW</td>\n",
              "      <td>A2V0I904FH7ABY</td>\n",
              "      <td>Ram</td>\n",
              "      <td>3</td>\n",
              "      <td>2</td>\n",
              "      <td>1</td>\n",
              "      <td>1212883200</td>\n",
              "      <td>Pure cocoa taste with crunchy almonds inside</td>\n",
              "      <td>It was almost a 'love at first bite' - the per...</td>\n",
              "    </tr>\n",
              "  </tbody>\n",
              "</table>\n",
              "</div>"
            ],
            "text/plain": [
              "          Id  ...                                               Text\n",
              "41159  44737  ...  It was almost a 'love at first bite' - the per...\n",
              "\n",
              "[1 rows x 10 columns]"
            ]
          },
          "metadata": {
            "tags": []
          },
          "execution_count": 14
        }
      ]
    },
    {
      "cell_type": "code",
      "metadata": {
        "id": "6pf8d1xPcrxi"
      },
      "source": [
        "final = final[final.HelpfulnessNumerator<=final.HelpfulnessDenominator]"
      ],
      "execution_count": 15,
      "outputs": []
    },
    {
      "cell_type": "code",
      "metadata": {
        "colab": {
          "base_uri": "https://localhost:8080/"
        },
        "id": "l1mCnmkgcrxi",
        "outputId": "db9e9845-f6fa-4c83-806e-7c98f32fac37"
      },
      "source": [
        "#Before starting the next phase of preprocessing lets see the number of entries left\n",
        "print(final.shape)\n",
        "\n",
        "#How many positive and negative reviews are present in our dataset?\n",
        "final['Score'].value_counts()"
      ],
      "execution_count": 16,
      "outputs": [
        {
          "output_type": "stream",
          "text": [
            "(46071, 10)\n"
          ],
          "name": "stdout"
        },
        {
          "output_type": "execute_result",
          "data": {
            "text/plain": [
              "1    38479\n",
              "0     7592\n",
              "Name: Score, dtype: int64"
            ]
          },
          "metadata": {
            "tags": []
          },
          "execution_count": 16
        }
      ]
    },
    {
      "cell_type": "markdown",
      "metadata": {
        "id": "YyD9dSlKcrxi"
      },
      "source": [
        "# Text Preprocessing."
      ]
    },
    {
      "cell_type": "markdown",
      "metadata": {
        "id": "uAAn6k3Scrxi"
      },
      "source": [
        "In the Preprocessing phase we do the following in the order below:-\n",
        "\n",
        "* Begin by removing the html tags\n",
        "* Remove any punctuations or limited set of special characters like , or . or # etc.\n",
        "* Check if the word is made up of english letters and is not alpha-numeric\n",
        "* Check to see if the length of the word is greater than 2 (as it was researched that there is no adjective in 2-letters)\n",
        "* Convert the word to lowercase\n",
        "* Remove Stopwords\n",
        "* Finally Snowball Stemming the word (it was obsereved to be better than Porter Stemming)\n",
        "* After which we collect the words used to describe positive and negative reviews"
      ]
    },
    {
      "cell_type": "code",
      "metadata": {
        "colab": {
          "base_uri": "https://localhost:8080/",
          "height": 69
        },
        "id": "-Whan_XGcrxj",
        "outputId": "03fec834-5a0a-4048-e359-b08f6d4ba46b"
      },
      "source": [
        "final['Text'].values[100]"
      ],
      "execution_count": 17,
      "outputs": [
        {
          "output_type": "execute_result",
          "data": {
            "application/vnd.google.colaboratory.intrinsic+json": {
              "type": "string"
            },
            "text/plain": [
              "\"Just an FYI to other customers: This item is for the Beef and Ocean Fish formula which is in a RED bag. In my haste, I purchased this thinking it was a the 15lb version of the Chicken and Rice formula. Woops! So I went and bought the 15lb bag of Chicken and Rice and mix the Beef and Fish in so it didn't wreak havoc on my pup's digestive system.<br /><br />I can say that after we started feeding this to my pup, she starting having stinky farts and had never had them before. Also, Roshan's right about the fish breath! Ick.<br /><br />Overall, my dog has no issues with this formula, it's just stinky so I'll stick to Chicken and Rice after this bag is done.\""
            ]
          },
          "metadata": {
            "tags": []
          },
          "execution_count": 17
        }
      ]
    },
    {
      "cell_type": "code",
      "metadata": {
        "id": "NSYaMBGxcrxj"
      },
      "source": [
        "# we are removing the words from the stop words list: 'no', 'nor', 'not'\n",
        "# <br /><br /> ==> after the above steps, we are getting \"br br\"\n",
        "# we are including them into stop words list\n",
        "# instead of <br /> if we have <br/> these tags would have revmoved in the 1st step\n",
        "\n",
        "stopwords= set(['br', 'the', 'i', 'me', 'my', 'myself', 'we', 'our', 'ours', 'ourselves', 'you', \"you're\", \"you've\",\\\n",
        "            \"you'll\", \"you'd\", 'your', 'yours', 'yourself', 'yourselves', 'he', 'him', 'his', 'himself', \\\n",
        "            'she', \"she's\", 'her', 'hers', 'herself', 'it', \"it's\", 'its', 'itself', 'they', 'them', 'their',\\\n",
        "            'theirs', 'themselves', 'what', 'which', 'who', 'whom', 'this', 'that', \"that'll\", 'these', 'those', \\\n",
        "            'am', 'is', 'are', 'was', 'were', 'be', 'been', 'being', 'have', 'has', 'had', 'having', 'do', 'does', \\\n",
        "            'did', 'doing', 'a', 'an', 'the', 'and', 'but', 'if', 'or', 'because', 'as', 'until', 'while', 'of', \\\n",
        "            'at', 'by', 'for', 'with', 'about', 'against', 'between', 'into', 'through', 'during', 'before', 'after',\\\n",
        "            'above', 'below', 'to', 'from', 'up', 'down', 'in', 'out', 'on', 'off', 'over', 'under', 'again', 'further',\\\n",
        "            'then', 'once', 'here', 'there', 'when', 'where', 'why', 'how', 'all', 'any', 'both', 'each', 'few', 'more',\\\n",
        "            'most', 'other', 'some', 'such', 'only', 'own', 'same', 'so', 'than', 'too', 'very', \\\n",
        "            's', 't', 'can', 'will', 'just', 'don', \"don't\", 'should', \"should've\", 'now', 'd', 'll', 'm', 'o', 're', \\\n",
        "            've', 'y', 'ain', 'aren', \"aren't\", 'couldn', \"couldn't\", 'didn', \"didn't\", 'doesn', \"doesn't\", 'hadn',\\\n",
        "            \"hadn't\", 'hasn', \"hasn't\", 'haven', \"haven't\", 'isn', \"isn't\", 'ma', 'mightn', \"mightn't\", 'mustn',\\\n",
        "            \"mustn't\", 'needn', \"needn't\", 'shan', \"shan't\", 'shouldn', \"shouldn't\", 'wasn', \"wasn't\", 'weren', \"weren't\", \\\n",
        "            'won', \"won't\", 'wouldn', \"wouldn't\"])"
      ],
      "execution_count": 18,
      "outputs": []
    },
    {
      "cell_type": "code",
      "metadata": {
        "id": "IgU3PY-Lcrxk"
      },
      "source": [
        "import re\n",
        "\n",
        "def decontracted(phrase):\n",
        "    # specific\n",
        "    phrase = re.sub(r\"won't\", \"will not\", phrase)\n",
        "    phrase = re.sub(r\"can\\'t\", \"can not\", phrase)\n",
        "\n",
        "    # general\n",
        "    phrase = re.sub(r\"n\\'t\", \" not\", phrase)\n",
        "    phrase = re.sub(r\"\\'re\", \" are\", phrase)\n",
        "    phrase = re.sub(r\"\\'s\", \" is\", phrase)\n",
        "    phrase = re.sub(r\"\\'d\", \" would\", phrase)\n",
        "    phrase = re.sub(r\"\\'ll\", \" will\", phrase)\n",
        "    phrase = re.sub(r\"\\'t\", \" not\", phrase)\n",
        "    phrase = re.sub(r\"\\'ve\", \" have\", phrase)\n",
        "    phrase = re.sub(r\"\\'m\", \" am\", phrase)\n",
        "    return phrase"
      ],
      "execution_count": 19,
      "outputs": []
    },
    {
      "cell_type": "code",
      "metadata": {
        "colab": {
          "base_uri": "https://localhost:8080/"
        },
        "id": "JAKu-4_Bcrxk",
        "outputId": "7e3a3c4f-5ab0-46df-db0e-87bac754a9c0"
      },
      "source": [
        "# Combining all the above stundents \n",
        "from tqdm import tqdm\n",
        "from bs4 import BeautifulSoup\n",
        "preprocessed_reviews = []\n",
        "# tqdm is for printing the status bar\n",
        "for sentance in tqdm(final['Text'].values):\n",
        "    # remove urls\n",
        "    sentance = re.sub(r\"http\\S+\", \"\", sentance)\n",
        "    # remove-all-tags-from-an-element\n",
        "    sentance = BeautifulSoup(sentance, 'lxml').get_text()\n",
        "    \n",
        "    sentance = decontracted(sentance)\n",
        "    #remove words with numbers python: https://stackoverflow.com/a/18082370/4084039\n",
        "    sentance = re.sub(\"\\S*\\d\\S*\", \"\", sentance).strip()\n",
        "    #remove spacial character: https://stackoverflow.com/a/5843547/4084039\n",
        "    sentance = re.sub('[^A-Za-z]+', ' ', sentance)\n",
        "    # https://gist.github.com/sebleier/554280\n",
        "    sentance = ' '.join(e.lower() for e in sentance.split() if e.lower() not in stopwords)\n",
        "    preprocessed_reviews.append(sentance.strip())"
      ],
      "execution_count": 20,
      "outputs": [
        {
          "output_type": "stream",
          "text": [
            "100%|██████████| 46071/46071 [00:21<00:00, 2163.64it/s]\n"
          ],
          "name": "stderr"
        }
      ]
    },
    {
      "cell_type": "code",
      "metadata": {
        "colab": {
          "base_uri": "https://localhost:8080/",
          "height": 52
        },
        "id": "7d436m4Mcrxk",
        "outputId": "09708848-670a-402e-99ef-5b45952047d2"
      },
      "source": [
        "preprocessed_reviews[100]"
      ],
      "execution_count": 21,
      "outputs": [
        {
          "output_type": "execute_result",
          "data": {
            "application/vnd.google.colaboratory.intrinsic+json": {
              "type": "string"
            },
            "text/plain": [
              "'fyi customers item beef ocean fish formula red bag haste purchased thinking version chicken rice formula woops went bought bag chicken rice mix beef fish not wreak havoc pup digestive system say started feeding pup starting stinky farts never also roshan right fish breath ick overall dog no issues formula stinky stick chicken rice bag done'"
            ]
          },
          "metadata": {
            "tags": []
          },
          "execution_count": 21
        }
      ]
    },
    {
      "cell_type": "markdown",
      "metadata": {
        "id": "7ZDheV2Lh9q2"
      },
      "source": [
        "## Multinomial Naive Bayes"
      ]
    },
    {
      "cell_type": "code",
      "metadata": {
        "colab": {
          "base_uri": "https://localhost:8080/",
          "height": 312
        },
        "id": "85TvQbaXh9Xa",
        "outputId": "25cd5527-b595-4fbd-f0b7-441db594b876"
      },
      "source": [
        "import numpy as np\n",
        "import pandas as pd\n",
        "import math\n",
        "import matplotlib.pyplot as plt\n",
        "from sklearn.model_selection  import train_test_split\n",
        "from sklearn.metrics import accuracy_score\n",
        "from sklearn.model_selection  import cross_val_score\n",
        "from collections import Counter\n",
        "from sklearn.metrics import accuracy_score\n",
        "from sklearn import model_selection\n",
        "from sklearn.metrics import roc_auc_score\n",
        "from sklearn.naive_bayes import MultinomialNB\n",
        "X=preprocessed_reviews\n",
        "\n",
        "y=np.array(final['Score'])\n",
        "count_vect=CountVectorizer()\n",
        "X_1, X_test, y_1, y_test = train_test_split(X, y, test_size=0.3, random_state=0)\n",
        "X_tr, X_cv, y_tr, y_cv = train_test_split(X_1, y_1, test_size=0.3)\n",
        "final_Xtr=count_vect.fit_transform(X_tr)\n",
        "final_Xcv=count_vect.transform(X_cv)\n",
        "final_Xtest=count_vect.transform(X_test)\n",
        "auc_train=[]\n",
        "auc_cv=[]\n",
        "alpha_values = [0.00001,0.0001,0.001,0.01,0.1,1,10,100,1000,10000,100000]#alpha from 10^-5 to 10^5\n",
        "    \n",
        "for i in alpha_values:\n",
        "    mnb = MultinomialNB(alpha = i)\n",
        "    mnb.fit(final_Xtr,y_tr)\n",
        "    pred=mnb.predict_proba(final_Xcv)[:,1]\n",
        "    pred1=mnb.predict_proba(final_Xtr)[:,1]\n",
        "    auc_train.append(roc_auc_score(y_tr,pred1))\n",
        "    auc_cv.append(roc_auc_score(y_cv,pred))\n",
        "    \n",
        "optimal_alpha= alpha_values[auc_cv.index(max(auc_cv))]\n",
        "alpha_values=[math.log(x) for x in alpha_values]\n",
        "fig = plt.figure()\n",
        "ax = plt.subplot(111)\n",
        "ax.plot(alpha_values, auc_train, label='AUC train')\n",
        "ax.plot(alpha_values, auc_cv, label='AUC CV')\n",
        "plt.title('AUC vs hyperparameter')\n",
        "plt.xlabel('log(alpha)')\n",
        "plt.ylabel('AUC')\n",
        "ax.legend()\n",
        "plt.show()\n",
        "print('optimal alpha for which auc is maximum : ',optimal_alpha)"
      ],
      "execution_count": 22,
      "outputs": [
        {
          "output_type": "display_data",
          "data": {
            "image/png": "[encoded data removed]",
            "text/plain": [
              "<Figure size 432x288 with 1 Axes>"
            ]
          },
          "metadata": {
            "tags": [],
            "needs_background": "light"
          }
        },
        {
          "output_type": "stream",
          "text": [
            "optimal alpha for which auc is maximum :  1\n"
          ],
          "name": "stdout"
        }
      ]
    },
    {
      "cell_type": "code",
      "metadata": {
        "colab": {
          "base_uri": "https://localhost:8080/",
          "height": 295
        },
        "id": "YULj9gxQh-nU",
        "outputId": "25c4ffd3-6558-46cd-e382-dbd979980a63"
      },
      "source": [
        "mnb=MultinomialNB(alpha = 1)\n",
        "mnb.fit(final_Xtr,y_tr)\n",
        "predi=mnb.predict_proba(final_Xtest)[:,1]\n",
        "fpr1, tpr1, thresholds1 = metrics.roc_curve(y_test, predi)\n",
        "pred=mnb.predict_proba(final_Xtr)[:,1]\n",
        "fpr2,tpr2,thresholds2=metrics.roc_curve(y_tr,pred)\n",
        "fig = plt.figure()\n",
        "ax = plt.subplot(111)\n",
        "ax.plot(fpr1, tpr1, label='Test ROC ,auc='+str(roc_auc_score(y_test,predi)))\n",
        "ax.plot(fpr2, tpr2, label='Train ROC ,auc='+str(roc_auc_score(y_tr,pred)))\n",
        "plt.title('ROC')\n",
        "plt.xlabel('FPR')\n",
        "plt.ylabel('TPR')\n",
        "ax.legend()\n",
        "plt.show()"
      ],
      "execution_count": 23,
      "outputs": [
        {
          "output_type": "display_data",
          "data": {
            "image/png": "[encoded data removed]",
            "text/plain": [
              "<Figure size 432x288 with 1 Axes>"
            ]
          },
          "metadata": {
            "tags": [],
            "needs_background": "light"
          }
        }
      ]
    },
    {
      "cell_type": "code",
      "metadata": {
        "colab": {
          "base_uri": "https://localhost:8080/",
          "height": 295
        },
        "id": "rvBh6b5SiSuk",
        "outputId": "1a88d8e9-537c-4761-81f2-59a8d48c4304"
      },
      "source": [
        "#confusion matrix using heatmap for train data\n",
        "from sklearn.metrics import confusion_matrix\n",
        "mnb=MultinomialNB(alpha=1)\n",
        "mnb.fit(final_Xtr,y_tr)\n",
        "predic=mnb.predict(final_Xtr)\n",
        "import seaborn as sns\n",
        "conf_mat = confusion_matrix(y_tr, predic)\n",
        "class_label = [\"negative\", \"positive\"]\n",
        "df = pd.DataFrame(conf_mat, index = class_label, columns = class_label)\n",
        "sns.heatmap(df, annot = True,fmt=\"d\")\n",
        "plt.title(\"Confusion Matrix\")\n",
        "plt.xlabel(\"Predicted Label\")\n",
        "plt.ylabel(\"True Label\")\n",
        "plt.show()"
      ],
      "execution_count": 24,
      "outputs": [
        {
          "output_type": "display_data",
          "data": {
            "image/png": "[encoded data removed]",
            "text/plain": [
              "<Figure size 432x288 with 2 Axes>"
            ]
          },
          "metadata": {
            "tags": [],
            "needs_background": "light"
          }
        }
      ]
    },
    {
      "cell_type": "code",
      "metadata": {
        "colab": {
          "base_uri": "https://localhost:8080/",
          "height": 295
        },
        "id": "DNKa3o8liVII",
        "outputId": "83b40e37-4ea9-4137-aaf2-4443611de4eb"
      },
      "source": [
        "#Confusion matrix using heatmap for test data\n",
        "from sklearn.metrics import confusion_matrix\n",
        "mnb=MultinomialNB(alpha=1)\n",
        "mnb.fit(final_Xtr,y_tr)\n",
        "predic=mnb.predict(final_Xtest)\n",
        "import seaborn as sns\n",
        "conf_mat = confusion_matrix(y_test, predic)\n",
        "class_label = [\"negative\", \"positive\"]\n",
        "df = pd.DataFrame(conf_mat, index = class_label, columns = class_label)\n",
        "sns.heatmap(df, annot = True,fmt=\"d\")\n",
        "plt.title(\"Confusion Matrix\")\n",
        "plt.xlabel(\"Predicted Label\")\n",
        "plt.ylabel(\"True Label\")\n",
        "plt.show()"
      ],
      "execution_count": 25,
      "outputs": [
        {
          "output_type": "display_data",
          "data": {
            "image/png": "[encoded data removed]",
            "text/plain": [
              "<Figure size 432x288 with 2 Axes>"
            ]
          },
          "metadata": {
            "tags": [],
            "needs_background": "light"
          }
        }
      ]
    },
    {
      "cell_type": "markdown",
      "metadata": {
        "id": "2reXZ5r9iky4"
      },
      "source": [
        "### Applying Naive Bayes on TFIDF"
      ]
    },
    {
      "cell_type": "code",
      "metadata": {
        "colab": {
          "base_uri": "https://localhost:8080/",
          "height": 312
        },
        "id": "GpivPP-JiebF",
        "outputId": "613b4101-478b-49b8-fe11-9b7e038cc07a"
      },
      "source": [
        "tf_idf_vect = TfidfVectorizer(min_df=10)\n",
        "X_train=tf_idf_vect.fit_transform(X_tr)\n",
        "X_cv=tf_idf_vect.transform(X_cv)\n",
        "X_test=tf_idf_vect.transform(X_test)\n",
        "auc_cv=[]\n",
        "auc_train=[]\n",
        "alpha_values = [0.00001,0.0001,0.001,0.01,0.1,1,10,100,1000,10000,100000]\n",
        "    \n",
        "for i in alpha_values:\n",
        "    mnb = MultinomialNB(alpha = i)\n",
        "    mnb.fit(X_train,y_tr)\n",
        "    pred=mnb.predict_proba(X_cv)[:,1]\n",
        "    pred1=mnb.predict_proba(X_train)[:,1]\n",
        "    auc_train.append(roc_auc_score(y_tr,pred1))\n",
        "    auc_cv.append(roc_auc_score(y_cv,pred))\n",
        "    \n",
        "optimal_alpha= alpha_values[auc_cv.index(max(auc_cv))]\n",
        "alpha_values=[math.log(x) for x in alpha_values]\n",
        "fig = plt.figure()\n",
        "ax = plt.subplot(111)\n",
        "ax.plot(alpha_values, auc_train, label='AUC train')\n",
        "ax.plot(alpha_values, auc_cv, label='AUC CV')\n",
        "plt.title('AUC vs hyperparameter')\n",
        "plt.xlabel('log(alpha)')\n",
        "plt.ylabel('AUC')\n",
        "ax.legend()\n",
        "plt.show()\n",
        "print('optimal alpha for which auc is maximum : ',optimal_alpha)"
      ],
      "execution_count": 26,
      "outputs": [
        {
          "output_type": "display_data",
          "data": {
            "image/png": "[encoded data removed]",
            "text/plain": [
              "<Figure size 432x288 with 1 Axes>"
            ]
          },
          "metadata": {
            "tags": [],
            "needs_background": "light"
          }
        },
        {
          "output_type": "stream",
          "text": [
            "optimal alpha for which auc is maximum :  0.1\n"
          ],
          "name": "stdout"
        }
      ]
    },
    {
      "cell_type": "code",
      "metadata": {
        "colab": {
          "base_uri": "https://localhost:8080/",
          "height": 295
        },
        "id": "u3_G13vlin9o",
        "outputId": "3c7aed89-f1ad-48c2-9cda-04200e48891f"
      },
      "source": [
        "mnb=MultinomialNB(alpha = 0.1)\n",
        "mnb.fit(X_train,y_tr)\n",
        "predi=mnb.predict_proba(X_test)[:,1]\n",
        "fpr1, tpr1, thresholds1 = metrics.roc_curve(y_test, predi)\n",
        "pred=mnb.predict_proba(X_train)[:,1]\n",
        "fpr2,tpr2,thresholds2=metrics.roc_curve(y_tr,pred)\n",
        "fig = plt.figure()\n",
        "ax = plt.subplot(111)\n",
        "ax.plot(fpr1, tpr1, label='Test ROC ,auc='+str(roc_auc_score(y_test,predi)))\n",
        "ax.plot(fpr2, tpr2, label='Train ROC ,auc='+str(roc_auc_score(y_tr,pred)))\n",
        "plt.title('ROC')\n",
        "plt.xlabel('FPR')\n",
        "plt.ylabel('TPR')\n",
        "ax.legend()\n",
        "plt.show()"
      ],
      "execution_count": 27,
      "outputs": [
        {
          "output_type": "display_data",
          "data": {
            "image/png": "[encoded data removed]",
            "text/plain": [
              "<Figure size 432x288 with 1 Axes>"
            ]
          },
          "metadata": {
            "tags": [],
            "needs_background": "light"
          }
        }
      ]
    },
    {
      "cell_type": "code",
      "metadata": {
        "colab": {
          "base_uri": "https://localhost:8080/",
          "height": 295
        },
        "id": "3v0_iMxDiqig",
        "outputId": "e74dfac5-38d5-4fb0-f972-d4cd6a91425e"
      },
      "source": [
        "from sklearn.metrics import confusion_matrix\n",
        "mnb=MultinomialNB(alpha=0.1)\n",
        "mnb.fit(X_train,y_tr)\n",
        "predic=mnb.predict(X_train)\n",
        "import seaborn as sns\n",
        "conf_mat = confusion_matrix(y_tr, predic)\n",
        "class_label = [\"negative\", \"positive\"]\n",
        "df = pd.DataFrame(conf_mat, index = class_label, columns = class_label)\n",
        "sns.heatmap(df, annot = True,fmt=\"d\")\n",
        "plt.title(\"Confusion Matrix\")\n",
        "plt.xlabel(\"Predicted Label\")\n",
        "plt.ylabel(\"True Label\")\n",
        "plt.show()"
      ],
      "execution_count": 28,
      "outputs": [
        {
          "output_type": "display_data",
          "data": {
            "image/png": "[encoded data removed]",
            "text/plain": [
              "<Figure size 432x288 with 2 Axes>"
            ]
          },
          "metadata": {
            "tags": [],
            "needs_background": "light"
          }
        }
      ]
    },
    {
      "cell_type": "code",
      "metadata": {
        "colab": {
          "base_uri": "https://localhost:8080/",
          "height": 295
        },
        "id": "fbTPjm4Qiu2n",
        "outputId": "9e90b6b5-999f-45ea-da4b-647c1e937a0e"
      },
      "source": [
        "\n",
        "#Confusion matrix using heatmap for test data\n",
        "from sklearn.metrics import confusion_matrix\n",
        "mnb=MultinomialNB(alpha=0.1)\n",
        "mnb.fit(X_train,y_tr)\n",
        "predic=mnb.predict(X_test)\n",
        "import seaborn as sns\n",
        "conf_mat = confusion_matrix(y_test, predic)\n",
        "class_label = [\"negative\", \"positive\"]\n",
        "df = pd.DataFrame(conf_mat, index = class_label, columns = class_label)\n",
        "sns.heatmap(df, annot = True,fmt=\"d\")\n",
        "plt.title(\"Confusion Matrix\")\n",
        "plt.xlabel(\"Predicted Label\")\n",
        "plt.ylabel(\"True Label\")\n",
        "plt.show()"
      ],
      "execution_count": 29,
      "outputs": [
        {
          "output_type": "display_data",
          "data": {
            "image/png": "[encoded data removed]",
            "text/plain": [
              "<Figure size 432x288 with 2 Axes>"
            ]
          },
          "metadata": {
            "tags": [],
            "needs_background": "light"
          }
        }
      ]
    },
    {
      "cell_type": "markdown",
      "metadata": {
        "id": "_ZfMBWYNjGCt"
      },
      "source": [
        "* First of all we can apply naive bayes only on positive values so we will only use BOW and TFIDF \n",
        "* In Bag of Words method we first split whole preprocessed reviews into three datasets train,cross validation and test\n",
        "* After that applied count_vect.fit_transform() on train data and count_vect.transform() on cv and train data\n",
        "* Then we applied multinomial naive bayes for different alpha values and store the result in an array\n",
        "* After that we plotted curve between auc score and logarithm of alpha (since alpha ranges from 10^-5 to 10^5) \n",
        "* we took the best alpha value for which auc value was maximum\n",
        "* Then again we fitted train data with our best alpha value and plotted ROC curve\n",
        "* After plotting ROC curve we plotted confusion matrix using heatmap for train and test data\n",
        "\n",
        "--------------------------------------------------\n",
        "* In TFIDF method we used above splitted data\n",
        "* After that applied tf_idf_vect.fit_transform() on train data and tf_idf_vect.transform() on cv and train data\n",
        "* Then we applied multinomial naive bayes for different alpha values and store the result in an array\n",
        "* After that we plotted curve between auc score and logarithm of alpha (since alpha ranges from 10^-5 to 10^5) \n",
        "* we took the best alpha value for which auc value was maximum\n",
        "* Then again we fitted train data with our best alpha value and plotted ROC curve\n",
        "* After plotting ROC curve we plotted confusion matrix using heatmap for train and test data\n"
      ]
    },
    {
      "cell_type": "code",
      "metadata": {
        "id": "GyqVQxddivfM"
      },
      "source": [
        ""
      ],
      "execution_count": null,
      "outputs": []
    }
  ]
}